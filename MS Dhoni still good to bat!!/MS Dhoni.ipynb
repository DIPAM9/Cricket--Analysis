{
 "cells": [
  {
   "cell_type": "code",
   "execution_count": 1,
   "id": "e41c41a0",
   "metadata": {},
   "outputs": [],
   "source": [
    "import numpy as np\n",
    "import pandas as pd\n",
    "import matplotlib.pyplot as plt\n",
    "%matplotlib inline "
   ]
  },
  {
   "cell_type": "code",
   "execution_count": 2,
   "id": "013edfe9",
   "metadata": {},
   "outputs": [],
   "source": [
    "pd.set_option(\"display.max_rows\", None)\n",
    "pd.set_option(\"display.max_columns\", None)\n",
    "pd.set_option(\"display.max_colwidth\", None)\n",
    "pd.set_option(\"display.expand_frame_repr\", None)"
   ]
  },
  {
   "cell_type": "code",
   "execution_count": 3,
   "id": "03f7d4ec",
   "metadata": {},
   "outputs": [
    {
     "data": {
      "text/html": [
       "<style>.container { width:100% !important; }</style>"
      ],
      "text/plain": [
       "<IPython.core.display.HTML object>"
      ]
     },
     "metadata": {},
     "output_type": "display_data"
    }
   ],
   "source": [
    "from IPython.display import display, HTML\n",
    "display(HTML(\"<style>.container { width:100% !important; }</style>\"))"
   ]
  },
  {
   "cell_type": "markdown",
   "id": "b8653a72",
   "metadata": {},
   "source": [
    "# Data Gathering"
   ]
  },
  {
   "cell_type": "code",
   "execution_count": 4,
   "id": "bf3dfef6",
   "metadata": {},
   "outputs": [],
   "source": [
    "data = pd.read_csv('IPL_ball_by_ball_updated.csv')"
   ]
  },
  {
   "cell_type": "code",
   "execution_count": 5,
   "id": "c7c75b7f",
   "metadata": {},
   "outputs": [
    {
     "data": {
      "text/html": [
       "<div>\n",
       "<style scoped>\n",
       "    .dataframe tbody tr th:only-of-type {\n",
       "        vertical-align: middle;\n",
       "    }\n",
       "\n",
       "    .dataframe tbody tr th {\n",
       "        vertical-align: top;\n",
       "    }\n",
       "\n",
       "    .dataframe thead th {\n",
       "        text-align: right;\n",
       "    }\n",
       "</style>\n",
       "<table border=\"1\" class=\"dataframe\">\n",
       "  <thead>\n",
       "    <tr style=\"text-align: right;\">\n",
       "      <th></th>\n",
       "      <th>match_id</th>\n",
       "      <th>season</th>\n",
       "      <th>start_date</th>\n",
       "      <th>venue</th>\n",
       "      <th>innings</th>\n",
       "      <th>ball</th>\n",
       "      <th>batting_team</th>\n",
       "      <th>bowling_team</th>\n",
       "      <th>striker</th>\n",
       "      <th>non_striker</th>\n",
       "      <th>bowler</th>\n",
       "      <th>runs_off_bat</th>\n",
       "      <th>extras</th>\n",
       "      <th>wides</th>\n",
       "      <th>noballs</th>\n",
       "      <th>byes</th>\n",
       "      <th>legbyes</th>\n",
       "      <th>penalty</th>\n",
       "      <th>wicket_type</th>\n",
       "      <th>player_dismissed</th>\n",
       "      <th>other_wicket_type</th>\n",
       "      <th>other_player_dismissed</th>\n",
       "    </tr>\n",
       "  </thead>\n",
       "  <tbody>\n",
       "    <tr>\n",
       "      <th>0</th>\n",
       "      <td>335982</td>\n",
       "      <td>2008</td>\n",
       "      <td>2008-04-18</td>\n",
       "      <td>M Chinnaswamy Stadium</td>\n",
       "      <td>2</td>\n",
       "      <td>6.8</td>\n",
       "      <td>Royal Challengers Bangalore</td>\n",
       "      <td>Kolkata Knight Riders</td>\n",
       "      <td>MV Boucher</td>\n",
       "      <td>CL White</td>\n",
       "      <td>AB Agarkar</td>\n",
       "      <td>4</td>\n",
       "      <td>0</td>\n",
       "      <td>NaN</td>\n",
       "      <td>NaN</td>\n",
       "      <td>NaN</td>\n",
       "      <td>NaN</td>\n",
       "      <td>NaN</td>\n",
       "      <td>NaN</td>\n",
       "      <td>NaN</td>\n",
       "      <td>NaN</td>\n",
       "      <td>NaN</td>\n",
       "    </tr>\n",
       "    <tr>\n",
       "      <th>1</th>\n",
       "      <td>335982</td>\n",
       "      <td>2008</td>\n",
       "      <td>2008-04-18</td>\n",
       "      <td>M Chinnaswamy Stadium</td>\n",
       "      <td>2</td>\n",
       "      <td>2.7</td>\n",
       "      <td>Royal Challengers Bangalore</td>\n",
       "      <td>Kolkata Knight Riders</td>\n",
       "      <td>W Jaffer</td>\n",
       "      <td>JH Kallis</td>\n",
       "      <td>AB Dinda</td>\n",
       "      <td>1</td>\n",
       "      <td>0</td>\n",
       "      <td>NaN</td>\n",
       "      <td>NaN</td>\n",
       "      <td>NaN</td>\n",
       "      <td>NaN</td>\n",
       "      <td>NaN</td>\n",
       "      <td>NaN</td>\n",
       "      <td>NaN</td>\n",
       "      <td>NaN</td>\n",
       "      <td>NaN</td>\n",
       "    </tr>\n",
       "    <tr>\n",
       "      <th>2</th>\n",
       "      <td>335982</td>\n",
       "      <td>2008</td>\n",
       "      <td>2008-04-18</td>\n",
       "      <td>M Chinnaswamy Stadium</td>\n",
       "      <td>2</td>\n",
       "      <td>3.1</td>\n",
       "      <td>Royal Challengers Bangalore</td>\n",
       "      <td>Kolkata Knight Riders</td>\n",
       "      <td>W Jaffer</td>\n",
       "      <td>JH Kallis</td>\n",
       "      <td>I Sharma</td>\n",
       "      <td>2</td>\n",
       "      <td>0</td>\n",
       "      <td>NaN</td>\n",
       "      <td>NaN</td>\n",
       "      <td>NaN</td>\n",
       "      <td>NaN</td>\n",
       "      <td>NaN</td>\n",
       "      <td>NaN</td>\n",
       "      <td>NaN</td>\n",
       "      <td>NaN</td>\n",
       "      <td>NaN</td>\n",
       "    </tr>\n",
       "    <tr>\n",
       "      <th>3</th>\n",
       "      <td>335982</td>\n",
       "      <td>2008</td>\n",
       "      <td>2008-04-18</td>\n",
       "      <td>M Chinnaswamy Stadium</td>\n",
       "      <td>2</td>\n",
       "      <td>3.2</td>\n",
       "      <td>Royal Challengers Bangalore</td>\n",
       "      <td>Kolkata Knight Riders</td>\n",
       "      <td>W Jaffer</td>\n",
       "      <td>JH Kallis</td>\n",
       "      <td>I Sharma</td>\n",
       "      <td>1</td>\n",
       "      <td>0</td>\n",
       "      <td>NaN</td>\n",
       "      <td>NaN</td>\n",
       "      <td>NaN</td>\n",
       "      <td>NaN</td>\n",
       "      <td>NaN</td>\n",
       "      <td>NaN</td>\n",
       "      <td>NaN</td>\n",
       "      <td>NaN</td>\n",
       "      <td>NaN</td>\n",
       "    </tr>\n",
       "    <tr>\n",
       "      <th>4</th>\n",
       "      <td>335982</td>\n",
       "      <td>2008</td>\n",
       "      <td>2008-04-18</td>\n",
       "      <td>M Chinnaswamy Stadium</td>\n",
       "      <td>2</td>\n",
       "      <td>3.3</td>\n",
       "      <td>Royal Challengers Bangalore</td>\n",
       "      <td>Kolkata Knight Riders</td>\n",
       "      <td>JH Kallis</td>\n",
       "      <td>W Jaffer</td>\n",
       "      <td>I Sharma</td>\n",
       "      <td>0</td>\n",
       "      <td>0</td>\n",
       "      <td>NaN</td>\n",
       "      <td>NaN</td>\n",
       "      <td>NaN</td>\n",
       "      <td>NaN</td>\n",
       "      <td>NaN</td>\n",
       "      <td>NaN</td>\n",
       "      <td>NaN</td>\n",
       "      <td>NaN</td>\n",
       "      <td>NaN</td>\n",
       "    </tr>\n",
       "  </tbody>\n",
       "</table>\n",
       "</div>"
      ],
      "text/plain": [
       "   match_id  season  start_date                  venue  innings  ball                 batting_team           bowling_team     striker non_striker      bowler  runs_off_bat  extras  wides  noballs  byes  legbyes  penalty wicket_type player_dismissed  other_wicket_type  other_player_dismissed\n",
       "0    335982    2008  2008-04-18  M Chinnaswamy Stadium        2   6.8  Royal Challengers Bangalore  Kolkata Knight Riders  MV Boucher    CL White  AB Agarkar             4       0    NaN      NaN   NaN      NaN      NaN         NaN              NaN                NaN                     NaN\n",
       "1    335982    2008  2008-04-18  M Chinnaswamy Stadium        2   2.7  Royal Challengers Bangalore  Kolkata Knight Riders    W Jaffer   JH Kallis    AB Dinda             1       0    NaN      NaN   NaN      NaN      NaN         NaN              NaN                NaN                     NaN\n",
       "2    335982    2008  2008-04-18  M Chinnaswamy Stadium        2   3.1  Royal Challengers Bangalore  Kolkata Knight Riders    W Jaffer   JH Kallis    I Sharma             2       0    NaN      NaN   NaN      NaN      NaN         NaN              NaN                NaN                     NaN\n",
       "3    335982    2008  2008-04-18  M Chinnaswamy Stadium        2   3.2  Royal Challengers Bangalore  Kolkata Knight Riders    W Jaffer   JH Kallis    I Sharma             1       0    NaN      NaN   NaN      NaN      NaN         NaN              NaN                NaN                     NaN\n",
       "4    335982    2008  2008-04-18  M Chinnaswamy Stadium        2   3.3  Royal Challengers Bangalore  Kolkata Knight Riders   JH Kallis    W Jaffer    I Sharma             0       0    NaN      NaN   NaN      NaN      NaN         NaN              NaN                NaN                     NaN"
      ]
     },
     "execution_count": 5,
     "metadata": {},
     "output_type": "execute_result"
    }
   ],
   "source": [
    "data.head()"
   ]
  },
  {
   "cell_type": "code",
   "execution_count": 6,
   "id": "a342e581",
   "metadata": {},
   "outputs": [
    {
     "data": {
      "text/plain": [
       "array(['Royal Challengers Bangalore', 'Kolkata Knight Riders',\n",
       "       'Rajasthan Royals', 'Kings XI Punjab', 'Delhi Daredevils',\n",
       "       'Chennai Super Kings', 'Deccan Chargers', 'Mumbai Indians',\n",
       "       'Kochi Tuskers Kerala', 'Pune Warriors', 'Sunrisers Hyderabad',\n",
       "       'Rising Pune Supergiants', 'Gujarat Lions',\n",
       "       'Rising Pune Supergiant', 'Delhi Capitals', 'Punjab Kings'],\n",
       "      dtype=object)"
      ]
     },
     "execution_count": 6,
     "metadata": {},
     "output_type": "execute_result"
    }
   ],
   "source": [
    "data.batting_team.unique()"
   ]
  },
  {
   "cell_type": "code",
   "execution_count": 7,
   "id": "98dea11a",
   "metadata": {},
   "outputs": [
    {
     "data": {
      "text/plain": [
       "array(['MEK Hussey', 'JDP Oram', 'SK Raina', 'S Badrinath', 'ML Hayden',\n",
       "       'PA Patel', 'MS Dhoni', 'JA Morkel', 'S Vidyut', 'SP Fleming',\n",
       "       'MS Gony', 'Joginder Sharma', 'M Muralitharan', 'M Ntini',\n",
       "       'S Anirudha', 'CK Kapugedera', 'L Balaji', 'A Mukund',\n",
       "       'T Thushara', 'A Flintoff', 'SB Jakati', 'M Vijay', 'GJ Bailey',\n",
       "       'R Ashwin', 'S Tyagi', 'JM Kemp', 'KB Arun Karthik',\n",
       "       'DE Bollinger', 'SB Styris', 'S Randiv', 'WP Saha', 'DJ Bravo',\n",
       "       'F du Plessis', 'RA Jadeja', 'KMDN Kulasekara', 'B Laughlin',\n",
       "       'AS Rajpoot', 'CH Morris', 'MM Sharma', 'DR Smith', 'BB McCullum',\n",
       "       'M Manhas', 'DJ Hussey', 'A Nehra', 'P Negi', 'RG More',\n",
       "       'KM Jadhav', 'AT Rayudu', 'SR Watson', 'MA Wood', 'Imran Tahir',\n",
       "       'Harbhajan Singh', 'DL Chahar', 'SW Billings', 'DR Shorey',\n",
       "       'SN Thakur', 'MJ Santner', 'SM Curran', 'RD Gaikwad',\n",
       "       'N Jagadeesan', 'MM Ali', 'RV Uthappa'], dtype=object)"
      ]
     },
     "execution_count": 7,
     "metadata": {},
     "output_type": "execute_result"
    }
   ],
   "source": [
    "data[data['batting_team'] == 'Chennai Super Kings']['striker'].unique()"
   ]
  },
  {
   "cell_type": "markdown",
   "id": "cfd00660",
   "metadata": {},
   "source": [
    "# Data Preprocessing "
   ]
  },
  {
   "cell_type": "code",
   "execution_count": 8,
   "id": "ee0a9c47",
   "metadata": {},
   "outputs": [],
   "source": [
    "dhoni = data[data['striker'] == 'MS Dhoni']"
   ]
  },
  {
   "cell_type": "code",
   "execution_count": 9,
   "id": "b81be526",
   "metadata": {},
   "outputs": [
    {
     "data": {
      "text/html": [
       "<div>\n",
       "<style scoped>\n",
       "    .dataframe tbody tr th:only-of-type {\n",
       "        vertical-align: middle;\n",
       "    }\n",
       "\n",
       "    .dataframe tbody tr th {\n",
       "        vertical-align: top;\n",
       "    }\n",
       "\n",
       "    .dataframe thead th {\n",
       "        text-align: right;\n",
       "    }\n",
       "</style>\n",
       "<table border=\"1\" class=\"dataframe\">\n",
       "  <thead>\n",
       "    <tr style=\"text-align: right;\">\n",
       "      <th></th>\n",
       "      <th>match_id</th>\n",
       "      <th>season</th>\n",
       "      <th>start_date</th>\n",
       "      <th>venue</th>\n",
       "      <th>innings</th>\n",
       "      <th>ball</th>\n",
       "      <th>batting_team</th>\n",
       "      <th>bowling_team</th>\n",
       "      <th>striker</th>\n",
       "      <th>non_striker</th>\n",
       "      <th>bowler</th>\n",
       "      <th>runs_off_bat</th>\n",
       "      <th>extras</th>\n",
       "      <th>wides</th>\n",
       "      <th>noballs</th>\n",
       "      <th>byes</th>\n",
       "      <th>legbyes</th>\n",
       "      <th>penalty</th>\n",
       "      <th>wicket_type</th>\n",
       "      <th>player_dismissed</th>\n",
       "      <th>other_wicket_type</th>\n",
       "      <th>other_player_dismissed</th>\n",
       "    </tr>\n",
       "  </thead>\n",
       "  <tbody>\n",
       "    <tr>\n",
       "      <th>559</th>\n",
       "      <td>335983</td>\n",
       "      <td>2008</td>\n",
       "      <td>2008-04-19</td>\n",
       "      <td>Punjab Cricket Association Stadium, Mohali</td>\n",
       "      <td>1</td>\n",
       "      <td>7.1</td>\n",
       "      <td>Chennai Super Kings</td>\n",
       "      <td>Kings XI Punjab</td>\n",
       "      <td>MS Dhoni</td>\n",
       "      <td>MEK Hussey</td>\n",
       "      <td>JR Hopes</td>\n",
       "      <td>0</td>\n",
       "      <td>0</td>\n",
       "      <td>NaN</td>\n",
       "      <td>NaN</td>\n",
       "      <td>NaN</td>\n",
       "      <td>NaN</td>\n",
       "      <td>NaN</td>\n",
       "      <td>lbw</td>\n",
       "      <td>MS Dhoni</td>\n",
       "      <td>NaN</td>\n",
       "      <td>NaN</td>\n",
       "    </tr>\n",
       "    <tr>\n",
       "      <th>560</th>\n",
       "      <td>335983</td>\n",
       "      <td>2008</td>\n",
       "      <td>2008-04-19</td>\n",
       "      <td>Punjab Cricket Association Stadium, Mohali</td>\n",
       "      <td>1</td>\n",
       "      <td>6.6</td>\n",
       "      <td>Chennai Super Kings</td>\n",
       "      <td>Kings XI Punjab</td>\n",
       "      <td>MS Dhoni</td>\n",
       "      <td>MEK Hussey</td>\n",
       "      <td>IK Pathan</td>\n",
       "      <td>1</td>\n",
       "      <td>0</td>\n",
       "      <td>NaN</td>\n",
       "      <td>NaN</td>\n",
       "      <td>NaN</td>\n",
       "      <td>NaN</td>\n",
       "      <td>NaN</td>\n",
       "      <td>NaN</td>\n",
       "      <td>NaN</td>\n",
       "      <td>NaN</td>\n",
       "      <td>NaN</td>\n",
       "    </tr>\n",
       "    <tr>\n",
       "      <th>563</th>\n",
       "      <td>335983</td>\n",
       "      <td>2008</td>\n",
       "      <td>2008-04-19</td>\n",
       "      <td>Punjab Cricket Association Stadium, Mohali</td>\n",
       "      <td>1</td>\n",
       "      <td>6.3</td>\n",
       "      <td>Chennai Super Kings</td>\n",
       "      <td>Kings XI Punjab</td>\n",
       "      <td>MS Dhoni</td>\n",
       "      <td>MEK Hussey</td>\n",
       "      <td>IK Pathan</td>\n",
       "      <td>1</td>\n",
       "      <td>0</td>\n",
       "      <td>NaN</td>\n",
       "      <td>NaN</td>\n",
       "      <td>NaN</td>\n",
       "      <td>NaN</td>\n",
       "      <td>NaN</td>\n",
       "      <td>NaN</td>\n",
       "      <td>NaN</td>\n",
       "      <td>NaN</td>\n",
       "      <td>NaN</td>\n",
       "    </tr>\n",
       "    <tr>\n",
       "      <th>1752</th>\n",
       "      <td>335989</td>\n",
       "      <td>2008</td>\n",
       "      <td>2008-04-23</td>\n",
       "      <td>MA Chidambaram Stadium, Chepauk</td>\n",
       "      <td>1</td>\n",
       "      <td>16.5</td>\n",
       "      <td>Chennai Super Kings</td>\n",
       "      <td>Mumbai Indians</td>\n",
       "      <td>MS Dhoni</td>\n",
       "      <td>ML Hayden</td>\n",
       "      <td>MA Khote</td>\n",
       "      <td>2</td>\n",
       "      <td>0</td>\n",
       "      <td>NaN</td>\n",
       "      <td>NaN</td>\n",
       "      <td>NaN</td>\n",
       "      <td>NaN</td>\n",
       "      <td>NaN</td>\n",
       "      <td>NaN</td>\n",
       "      <td>NaN</td>\n",
       "      <td>NaN</td>\n",
       "      <td>NaN</td>\n",
       "    </tr>\n",
       "    <tr>\n",
       "      <th>1753</th>\n",
       "      <td>335989</td>\n",
       "      <td>2008</td>\n",
       "      <td>2008-04-23</td>\n",
       "      <td>MA Chidambaram Stadium, Chepauk</td>\n",
       "      <td>1</td>\n",
       "      <td>19.5</td>\n",
       "      <td>Chennai Super Kings</td>\n",
       "      <td>Mumbai Indians</td>\n",
       "      <td>MS Dhoni</td>\n",
       "      <td>JDP Oram</td>\n",
       "      <td>MA Khote</td>\n",
       "      <td>0</td>\n",
       "      <td>0</td>\n",
       "      <td>NaN</td>\n",
       "      <td>NaN</td>\n",
       "      <td>NaN</td>\n",
       "      <td>NaN</td>\n",
       "      <td>NaN</td>\n",
       "      <td>caught</td>\n",
       "      <td>MS Dhoni</td>\n",
       "      <td>NaN</td>\n",
       "      <td>NaN</td>\n",
       "    </tr>\n",
       "  </tbody>\n",
       "</table>\n",
       "</div>"
      ],
      "text/plain": [
       "      match_id  season  start_date                                       venue  innings  ball         batting_team     bowling_team   striker non_striker     bowler  runs_off_bat  extras  wides  noballs  byes  legbyes  penalty wicket_type player_dismissed  other_wicket_type  other_player_dismissed\n",
       "559     335983    2008  2008-04-19  Punjab Cricket Association Stadium, Mohali        1   7.1  Chennai Super Kings  Kings XI Punjab  MS Dhoni  MEK Hussey   JR Hopes             0       0    NaN      NaN   NaN      NaN      NaN         lbw         MS Dhoni                NaN                     NaN\n",
       "560     335983    2008  2008-04-19  Punjab Cricket Association Stadium, Mohali        1   6.6  Chennai Super Kings  Kings XI Punjab  MS Dhoni  MEK Hussey  IK Pathan             1       0    NaN      NaN   NaN      NaN      NaN         NaN              NaN                NaN                     NaN\n",
       "563     335983    2008  2008-04-19  Punjab Cricket Association Stadium, Mohali        1   6.3  Chennai Super Kings  Kings XI Punjab  MS Dhoni  MEK Hussey  IK Pathan             1       0    NaN      NaN   NaN      NaN      NaN         NaN              NaN                NaN                     NaN\n",
       "1752    335989    2008  2008-04-23             MA Chidambaram Stadium, Chepauk        1  16.5  Chennai Super Kings   Mumbai Indians  MS Dhoni   ML Hayden   MA Khote             2       0    NaN      NaN   NaN      NaN      NaN         NaN              NaN                NaN                     NaN\n",
       "1753    335989    2008  2008-04-23             MA Chidambaram Stadium, Chepauk        1  19.5  Chennai Super Kings   Mumbai Indians  MS Dhoni    JDP Oram   MA Khote             0       0    NaN      NaN   NaN      NaN      NaN      caught         MS Dhoni                NaN                     NaN"
      ]
     },
     "execution_count": 9,
     "metadata": {},
     "output_type": "execute_result"
    }
   ],
   "source": [
    "dhoni.head()"
   ]
  },
  {
   "cell_type": "code",
   "execution_count": 10,
   "id": "5d9e8ddc",
   "metadata": {},
   "outputs": [
    {
     "data": {
      "text/plain": [
       "(3604, 22)"
      ]
     },
     "execution_count": 10,
     "metadata": {},
     "output_type": "execute_result"
    }
   ],
   "source": [
    "dhoni.shape"
   ]
  },
  {
   "cell_type": "code",
   "execution_count": 11,
   "id": "8be4fa55",
   "metadata": {},
   "outputs": [
    {
     "name": "stdout",
     "output_type": "stream",
     "text": [
      "<class 'pandas.core.frame.DataFrame'>\n",
      "Int64Index: 3604 entries, 559 to 207133\n",
      "Data columns (total 22 columns):\n",
      " #   Column                  Non-Null Count  Dtype  \n",
      "---  ------                  --------------  -----  \n",
      " 0   match_id                3604 non-null   int64  \n",
      " 1   season                  3604 non-null   int64  \n",
      " 2   start_date              3604 non-null   object \n",
      " 3   venue                   3604 non-null   object \n",
      " 4   innings                 3604 non-null   int64  \n",
      " 5   ball                    3604 non-null   float64\n",
      " 6   batting_team            3604 non-null   object \n",
      " 7   bowling_team            3604 non-null   object \n",
      " 8   striker                 3604 non-null   object \n",
      " 9   non_striker             3604 non-null   object \n",
      " 10  bowler                  3604 non-null   object \n",
      " 11  runs_off_bat            3604 non-null   int64  \n",
      " 12  extras                  3604 non-null   int64  \n",
      " 13  wides                   110 non-null    float64\n",
      " 14  noballs                 16 non-null     float64\n",
      " 15  byes                    9 non-null      float64\n",
      " 16  legbyes                 64 non-null     float64\n",
      " 17  penalty                 0 non-null      float64\n",
      " 18  wicket_type             134 non-null    object \n",
      " 19  player_dismissed        134 non-null    object \n",
      " 20  other_wicket_type       0 non-null      float64\n",
      " 21  other_player_dismissed  0 non-null      float64\n",
      "dtypes: float64(8), int64(5), object(9)\n",
      "memory usage: 647.6+ KB\n"
     ]
    }
   ],
   "source": [
    "dhoni.info()"
   ]
  },
  {
   "cell_type": "code",
   "execution_count": 12,
   "id": "8740abf1",
   "metadata": {},
   "outputs": [
    {
     "data": {
      "text/plain": [
       "131.68701442841288"
      ]
     },
     "execution_count": 12,
     "metadata": {},
     "output_type": "execute_result"
    }
   ],
   "source": [
    "#strike rate of Dhoni in IPL\n",
    "\n",
    "100 * sum(dhoni['runs_off_bat'])/len(dhoni['striker'])"
   ]
  },
  {
   "cell_type": "code",
   "execution_count": 13,
   "id": "05afa283",
   "metadata": {},
   "outputs": [
    {
     "name": "stderr",
     "output_type": "stream",
     "text": [
      "C:\\Users\\user\\AppData\\Local\\Temp\\ipykernel_20264\\2908014412.py:1: SettingWithCopyWarning: \n",
      "A value is trying to be set on a copy of a slice from a DataFrame.\n",
      "Try using .loc[row_indexer,col_indexer] = value instead\n",
      "\n",
      "See the caveats in the documentation: https://pandas.pydata.org/pandas-docs/stable/user_guide/indexing.html#returning-a-view-versus-a-copy\n",
      "  dhoni['year'] = pd.to_datetime(dhoni['start_date']).dt.year\n"
     ]
    }
   ],
   "source": [
    "dhoni['year'] = pd.to_datetime(dhoni['start_date']).dt.year"
   ]
  },
  {
   "cell_type": "code",
   "execution_count": 14,
   "id": "28e08d61",
   "metadata": {},
   "outputs": [
    {
     "data": {
      "text/html": [
       "<div>\n",
       "<style scoped>\n",
       "    .dataframe tbody tr th:only-of-type {\n",
       "        vertical-align: middle;\n",
       "    }\n",
       "\n",
       "    .dataframe tbody tr th {\n",
       "        vertical-align: top;\n",
       "    }\n",
       "\n",
       "    .dataframe thead th {\n",
       "        text-align: right;\n",
       "    }\n",
       "</style>\n",
       "<table border=\"1\" class=\"dataframe\">\n",
       "  <thead>\n",
       "    <tr style=\"text-align: right;\">\n",
       "      <th></th>\n",
       "      <th>match_id</th>\n",
       "      <th>season</th>\n",
       "      <th>start_date</th>\n",
       "      <th>venue</th>\n",
       "      <th>innings</th>\n",
       "      <th>ball</th>\n",
       "      <th>batting_team</th>\n",
       "      <th>bowling_team</th>\n",
       "      <th>striker</th>\n",
       "      <th>non_striker</th>\n",
       "      <th>bowler</th>\n",
       "      <th>runs_off_bat</th>\n",
       "      <th>extras</th>\n",
       "      <th>wides</th>\n",
       "      <th>noballs</th>\n",
       "      <th>byes</th>\n",
       "      <th>legbyes</th>\n",
       "      <th>penalty</th>\n",
       "      <th>wicket_type</th>\n",
       "      <th>player_dismissed</th>\n",
       "      <th>other_wicket_type</th>\n",
       "      <th>other_player_dismissed</th>\n",
       "      <th>year</th>\n",
       "    </tr>\n",
       "  </thead>\n",
       "  <tbody>\n",
       "    <tr>\n",
       "      <th>559</th>\n",
       "      <td>335983</td>\n",
       "      <td>2008</td>\n",
       "      <td>2008-04-19</td>\n",
       "      <td>Punjab Cricket Association Stadium, Mohali</td>\n",
       "      <td>1</td>\n",
       "      <td>7.1</td>\n",
       "      <td>Chennai Super Kings</td>\n",
       "      <td>Kings XI Punjab</td>\n",
       "      <td>MS Dhoni</td>\n",
       "      <td>MEK Hussey</td>\n",
       "      <td>JR Hopes</td>\n",
       "      <td>0</td>\n",
       "      <td>0</td>\n",
       "      <td>NaN</td>\n",
       "      <td>NaN</td>\n",
       "      <td>NaN</td>\n",
       "      <td>NaN</td>\n",
       "      <td>NaN</td>\n",
       "      <td>lbw</td>\n",
       "      <td>MS Dhoni</td>\n",
       "      <td>NaN</td>\n",
       "      <td>NaN</td>\n",
       "      <td>2008</td>\n",
       "    </tr>\n",
       "    <tr>\n",
       "      <th>560</th>\n",
       "      <td>335983</td>\n",
       "      <td>2008</td>\n",
       "      <td>2008-04-19</td>\n",
       "      <td>Punjab Cricket Association Stadium, Mohali</td>\n",
       "      <td>1</td>\n",
       "      <td>6.6</td>\n",
       "      <td>Chennai Super Kings</td>\n",
       "      <td>Kings XI Punjab</td>\n",
       "      <td>MS Dhoni</td>\n",
       "      <td>MEK Hussey</td>\n",
       "      <td>IK Pathan</td>\n",
       "      <td>1</td>\n",
       "      <td>0</td>\n",
       "      <td>NaN</td>\n",
       "      <td>NaN</td>\n",
       "      <td>NaN</td>\n",
       "      <td>NaN</td>\n",
       "      <td>NaN</td>\n",
       "      <td>NaN</td>\n",
       "      <td>NaN</td>\n",
       "      <td>NaN</td>\n",
       "      <td>NaN</td>\n",
       "      <td>2008</td>\n",
       "    </tr>\n",
       "    <tr>\n",
       "      <th>563</th>\n",
       "      <td>335983</td>\n",
       "      <td>2008</td>\n",
       "      <td>2008-04-19</td>\n",
       "      <td>Punjab Cricket Association Stadium, Mohali</td>\n",
       "      <td>1</td>\n",
       "      <td>6.3</td>\n",
       "      <td>Chennai Super Kings</td>\n",
       "      <td>Kings XI Punjab</td>\n",
       "      <td>MS Dhoni</td>\n",
       "      <td>MEK Hussey</td>\n",
       "      <td>IK Pathan</td>\n",
       "      <td>1</td>\n",
       "      <td>0</td>\n",
       "      <td>NaN</td>\n",
       "      <td>NaN</td>\n",
       "      <td>NaN</td>\n",
       "      <td>NaN</td>\n",
       "      <td>NaN</td>\n",
       "      <td>NaN</td>\n",
       "      <td>NaN</td>\n",
       "      <td>NaN</td>\n",
       "      <td>NaN</td>\n",
       "      <td>2008</td>\n",
       "    </tr>\n",
       "    <tr>\n",
       "      <th>1752</th>\n",
       "      <td>335989</td>\n",
       "      <td>2008</td>\n",
       "      <td>2008-04-23</td>\n",
       "      <td>MA Chidambaram Stadium, Chepauk</td>\n",
       "      <td>1</td>\n",
       "      <td>16.5</td>\n",
       "      <td>Chennai Super Kings</td>\n",
       "      <td>Mumbai Indians</td>\n",
       "      <td>MS Dhoni</td>\n",
       "      <td>ML Hayden</td>\n",
       "      <td>MA Khote</td>\n",
       "      <td>2</td>\n",
       "      <td>0</td>\n",
       "      <td>NaN</td>\n",
       "      <td>NaN</td>\n",
       "      <td>NaN</td>\n",
       "      <td>NaN</td>\n",
       "      <td>NaN</td>\n",
       "      <td>NaN</td>\n",
       "      <td>NaN</td>\n",
       "      <td>NaN</td>\n",
       "      <td>NaN</td>\n",
       "      <td>2008</td>\n",
       "    </tr>\n",
       "    <tr>\n",
       "      <th>1753</th>\n",
       "      <td>335989</td>\n",
       "      <td>2008</td>\n",
       "      <td>2008-04-23</td>\n",
       "      <td>MA Chidambaram Stadium, Chepauk</td>\n",
       "      <td>1</td>\n",
       "      <td>19.5</td>\n",
       "      <td>Chennai Super Kings</td>\n",
       "      <td>Mumbai Indians</td>\n",
       "      <td>MS Dhoni</td>\n",
       "      <td>JDP Oram</td>\n",
       "      <td>MA Khote</td>\n",
       "      <td>0</td>\n",
       "      <td>0</td>\n",
       "      <td>NaN</td>\n",
       "      <td>NaN</td>\n",
       "      <td>NaN</td>\n",
       "      <td>NaN</td>\n",
       "      <td>NaN</td>\n",
       "      <td>caught</td>\n",
       "      <td>MS Dhoni</td>\n",
       "      <td>NaN</td>\n",
       "      <td>NaN</td>\n",
       "      <td>2008</td>\n",
       "    </tr>\n",
       "  </tbody>\n",
       "</table>\n",
       "</div>"
      ],
      "text/plain": [
       "      match_id  season  start_date                                       venue  innings  ball         batting_team     bowling_team   striker non_striker     bowler  runs_off_bat  extras  wides  noballs  byes  legbyes  penalty wicket_type player_dismissed  other_wicket_type  other_player_dismissed  year\n",
       "559     335983    2008  2008-04-19  Punjab Cricket Association Stadium, Mohali        1   7.1  Chennai Super Kings  Kings XI Punjab  MS Dhoni  MEK Hussey   JR Hopes             0       0    NaN      NaN   NaN      NaN      NaN         lbw         MS Dhoni                NaN                     NaN  2008\n",
       "560     335983    2008  2008-04-19  Punjab Cricket Association Stadium, Mohali        1   6.6  Chennai Super Kings  Kings XI Punjab  MS Dhoni  MEK Hussey  IK Pathan             1       0    NaN      NaN   NaN      NaN      NaN         NaN              NaN                NaN                     NaN  2008\n",
       "563     335983    2008  2008-04-19  Punjab Cricket Association Stadium, Mohali        1   6.3  Chennai Super Kings  Kings XI Punjab  MS Dhoni  MEK Hussey  IK Pathan             1       0    NaN      NaN   NaN      NaN      NaN         NaN              NaN                NaN                     NaN  2008\n",
       "1752    335989    2008  2008-04-23             MA Chidambaram Stadium, Chepauk        1  16.5  Chennai Super Kings   Mumbai Indians  MS Dhoni   ML Hayden   MA Khote             2       0    NaN      NaN   NaN      NaN      NaN         NaN              NaN                NaN                     NaN  2008\n",
       "1753    335989    2008  2008-04-23             MA Chidambaram Stadium, Chepauk        1  19.5  Chennai Super Kings   Mumbai Indians  MS Dhoni    JDP Oram   MA Khote             0       0    NaN      NaN   NaN      NaN      NaN      caught         MS Dhoni                NaN                     NaN  2008"
      ]
     },
     "execution_count": 14,
     "metadata": {},
     "output_type": "execute_result"
    }
   ],
   "source": [
    "dhoni.head()"
   ]
  },
  {
   "cell_type": "markdown",
   "id": "b80eb53a",
   "metadata": {},
   "source": [
    "## Performance of Dhoni in CSK"
   ]
  },
  {
   "cell_type": "code",
   "execution_count": 15,
   "id": "c5a9cd6d",
   "metadata": {},
   "outputs": [
    {
     "data": {
      "text/plain": [
       "bowling_team\n",
       "Royal Challengers Bangalore    836\n",
       "Mumbai Indians                 682\n",
       "Kings XI Punjab                595\n",
       "Kolkata Knight Riders          501\n",
       "Rajasthan Royals               495\n",
       "Delhi Daredevils               487\n",
       "Sunrisers Hyderabad            477\n",
       "Deccan Chargers                281\n",
       "Delhi Capitals                 139\n",
       "Pune Warriors                  135\n",
       "Gujarat Lions                   83\n",
       "Kochi Tuskers Kerala            23\n",
       "Punjab Kings                    12\n",
       "Name: runs_off_bat, dtype: int64"
      ]
     },
     "execution_count": 15,
     "metadata": {},
     "output_type": "execute_result"
    }
   ],
   "source": [
    "dhoni.groupby(['bowling_team'])['runs_off_bat'].sum().sort_values(ascending=False)"
   ]
  },
  {
   "cell_type": "code",
   "execution_count": 16,
   "id": "e7a493b6",
   "metadata": {},
   "outputs": [
    {
     "data": {
      "image/png": "[encoded data removed]",
      "text/plain": [
       "<Figure size 600x600 with 1 Axes>"
      ]
     },
     "metadata": {},
     "output_type": "display_data"
    }
   ],
   "source": [
    "#runs of Dhoni against other teams\n",
    "\n",
    "plt.figure(figsize=(6, 6))\n",
    "dhoni.groupby(['bowling_team'])['runs_off_bat'].sum().plot(kind='barh')\n",
    "plt.show()"
   ]
  },
  {
   "cell_type": "code",
   "execution_count": 17,
   "id": "5c31f132",
   "metadata": {},
   "outputs": [
    {
     "data": {
      "text/plain": [
       "year\n",
       "2013    461\n",
       "2018    455\n",
       "2019    416\n",
       "2008    414\n",
       "2011    392\n",
       "2015    372\n",
       "2014    371\n",
       "2012    358\n",
       "2009    332\n",
       "2017    290\n",
       "2010    287\n",
       "2016    284\n",
       "2020    200\n",
       "2021    114\n",
       "Name: runs_off_bat, dtype: int64"
      ]
     },
     "execution_count": 17,
     "metadata": {},
     "output_type": "execute_result"
    }
   ],
   "source": [
    "dhoni.groupby(['year'])['runs_off_bat'].sum().sort_values(ascending=False)"
   ]
  },
  {
   "cell_type": "code",
   "execution_count": 18,
   "id": "3ca5db3b",
   "metadata": {},
   "outputs": [
    {
     "data": {
      "image/png": "[encoded data removed]",
      "text/plain": [
       "<Figure size 800x500 with 1 Axes>"
      ]
     },
     "metadata": {},
     "output_type": "display_data"
    }
   ],
   "source": [
    "#the runs of Dhoni over the years\n",
    "\n",
    "plt.figure(figsize=(8, 5))\n",
    "(dhoni.groupby(['year'])['runs_off_bat'].sum()).plot(kind='bar' )\n",
    "plt.show()"
   ]
  },
  {
   "cell_type": "markdown",
   "id": "ed210f9c",
   "metadata": {},
   "source": [
    "## The ability of MS Dhoni to hit Boundaries in Slog Overs"
   ]
  },
  {
   "cell_type": "code",
   "execution_count": 19,
   "id": "05eea066",
   "metadata": {},
   "outputs": [],
   "source": [
    "dhoni_slog = dhoni[(dhoni['ball']>=15) & (dhoni['ball']<=20)]"
   ]
  },
  {
   "cell_type": "code",
   "execution_count": 20,
   "id": "5fb033ac",
   "metadata": {},
   "outputs": [
    {
     "data": {
      "text/html": [
       "<div>\n",
       "<style scoped>\n",
       "    .dataframe tbody tr th:only-of-type {\n",
       "        vertical-align: middle;\n",
       "    }\n",
       "\n",
       "    .dataframe tbody tr th {\n",
       "        vertical-align: top;\n",
       "    }\n",
       "\n",
       "    .dataframe thead th {\n",
       "        text-align: right;\n",
       "    }\n",
       "</style>\n",
       "<table border=\"1\" class=\"dataframe\">\n",
       "  <thead>\n",
       "    <tr style=\"text-align: right;\">\n",
       "      <th></th>\n",
       "      <th>match_id</th>\n",
       "      <th>season</th>\n",
       "      <th>start_date</th>\n",
       "      <th>venue</th>\n",
       "      <th>innings</th>\n",
       "      <th>ball</th>\n",
       "      <th>batting_team</th>\n",
       "      <th>bowling_team</th>\n",
       "      <th>striker</th>\n",
       "      <th>non_striker</th>\n",
       "      <th>bowler</th>\n",
       "      <th>runs_off_bat</th>\n",
       "      <th>extras</th>\n",
       "      <th>wides</th>\n",
       "      <th>noballs</th>\n",
       "      <th>byes</th>\n",
       "      <th>legbyes</th>\n",
       "      <th>penalty</th>\n",
       "      <th>wicket_type</th>\n",
       "      <th>player_dismissed</th>\n",
       "      <th>other_wicket_type</th>\n",
       "      <th>other_player_dismissed</th>\n",
       "      <th>year</th>\n",
       "    </tr>\n",
       "  </thead>\n",
       "  <tbody>\n",
       "    <tr>\n",
       "      <th>207128</th>\n",
       "      <td>1254114</td>\n",
       "      <td>2021</td>\n",
       "      <td>2021-10-10</td>\n",
       "      <td>Dubai International Cricket Stadium</td>\n",
       "      <td>2</td>\n",
       "      <td>18.6</td>\n",
       "      <td>Chennai Super Kings</td>\n",
       "      <td>Delhi Capitals</td>\n",
       "      <td>MS Dhoni</td>\n",
       "      <td>MM Ali</td>\n",
       "      <td>Avesh Khan</td>\n",
       "      <td>0</td>\n",
       "      <td>0</td>\n",
       "      <td>NaN</td>\n",
       "      <td>NaN</td>\n",
       "      <td>NaN</td>\n",
       "      <td>NaN</td>\n",
       "      <td>NaN</td>\n",
       "      <td>NaN</td>\n",
       "      <td>NaN</td>\n",
       "      <td>NaN</td>\n",
       "      <td>NaN</td>\n",
       "      <td>2021</td>\n",
       "    </tr>\n",
       "    <tr>\n",
       "      <th>207130</th>\n",
       "      <td>1254114</td>\n",
       "      <td>2021</td>\n",
       "      <td>2021-10-10</td>\n",
       "      <td>Dubai International Cricket Stadium</td>\n",
       "      <td>2</td>\n",
       "      <td>19.2</td>\n",
       "      <td>Chennai Super Kings</td>\n",
       "      <td>Delhi Capitals</td>\n",
       "      <td>MS Dhoni</td>\n",
       "      <td>RA Jadeja</td>\n",
       "      <td>TK Curran</td>\n",
       "      <td>4</td>\n",
       "      <td>0</td>\n",
       "      <td>NaN</td>\n",
       "      <td>NaN</td>\n",
       "      <td>NaN</td>\n",
       "      <td>NaN</td>\n",
       "      <td>NaN</td>\n",
       "      <td>NaN</td>\n",
       "      <td>NaN</td>\n",
       "      <td>NaN</td>\n",
       "      <td>NaN</td>\n",
       "      <td>2021</td>\n",
       "    </tr>\n",
       "    <tr>\n",
       "      <th>207131</th>\n",
       "      <td>1254114</td>\n",
       "      <td>2021</td>\n",
       "      <td>2021-10-10</td>\n",
       "      <td>Dubai International Cricket Stadium</td>\n",
       "      <td>2</td>\n",
       "      <td>19.3</td>\n",
       "      <td>Chennai Super Kings</td>\n",
       "      <td>Delhi Capitals</td>\n",
       "      <td>MS Dhoni</td>\n",
       "      <td>RA Jadeja</td>\n",
       "      <td>TK Curran</td>\n",
       "      <td>4</td>\n",
       "      <td>0</td>\n",
       "      <td>NaN</td>\n",
       "      <td>NaN</td>\n",
       "      <td>NaN</td>\n",
       "      <td>NaN</td>\n",
       "      <td>NaN</td>\n",
       "      <td>NaN</td>\n",
       "      <td>NaN</td>\n",
       "      <td>NaN</td>\n",
       "      <td>NaN</td>\n",
       "      <td>2021</td>\n",
       "    </tr>\n",
       "    <tr>\n",
       "      <th>207132</th>\n",
       "      <td>1254114</td>\n",
       "      <td>2021</td>\n",
       "      <td>2021-10-10</td>\n",
       "      <td>Dubai International Cricket Stadium</td>\n",
       "      <td>2</td>\n",
       "      <td>19.4</td>\n",
       "      <td>Chennai Super Kings</td>\n",
       "      <td>Delhi Capitals</td>\n",
       "      <td>MS Dhoni</td>\n",
       "      <td>RA Jadeja</td>\n",
       "      <td>TK Curran</td>\n",
       "      <td>0</td>\n",
       "      <td>1</td>\n",
       "      <td>1.0</td>\n",
       "      <td>NaN</td>\n",
       "      <td>NaN</td>\n",
       "      <td>NaN</td>\n",
       "      <td>NaN</td>\n",
       "      <td>NaN</td>\n",
       "      <td>NaN</td>\n",
       "      <td>NaN</td>\n",
       "      <td>NaN</td>\n",
       "      <td>2021</td>\n",
       "    </tr>\n",
       "    <tr>\n",
       "      <th>207133</th>\n",
       "      <td>1254114</td>\n",
       "      <td>2021</td>\n",
       "      <td>2021-10-10</td>\n",
       "      <td>Dubai International Cricket Stadium</td>\n",
       "      <td>2</td>\n",
       "      <td>19.5</td>\n",
       "      <td>Chennai Super Kings</td>\n",
       "      <td>Delhi Capitals</td>\n",
       "      <td>MS Dhoni</td>\n",
       "      <td>RA Jadeja</td>\n",
       "      <td>TK Curran</td>\n",
       "      <td>4</td>\n",
       "      <td>0</td>\n",
       "      <td>NaN</td>\n",
       "      <td>NaN</td>\n",
       "      <td>NaN</td>\n",
       "      <td>NaN</td>\n",
       "      <td>NaN</td>\n",
       "      <td>NaN</td>\n",
       "      <td>NaN</td>\n",
       "      <td>NaN</td>\n",
       "      <td>NaN</td>\n",
       "      <td>2021</td>\n",
       "    </tr>\n",
       "  </tbody>\n",
       "</table>\n",
       "</div>"
      ],
      "text/plain": [
       "        match_id  season  start_date                                venue  innings  ball         batting_team    bowling_team   striker non_striker      bowler  runs_off_bat  extras  wides  noballs  byes  legbyes  penalty wicket_type player_dismissed  other_wicket_type  other_player_dismissed  year\n",
       "207128   1254114    2021  2021-10-10  Dubai International Cricket Stadium        2  18.6  Chennai Super Kings  Delhi Capitals  MS Dhoni      MM Ali  Avesh Khan             0       0    NaN      NaN   NaN      NaN      NaN         NaN              NaN                NaN                     NaN  2021\n",
       "207130   1254114    2021  2021-10-10  Dubai International Cricket Stadium        2  19.2  Chennai Super Kings  Delhi Capitals  MS Dhoni   RA Jadeja   TK Curran             4       0    NaN      NaN   NaN      NaN      NaN         NaN              NaN                NaN                     NaN  2021\n",
       "207131   1254114    2021  2021-10-10  Dubai International Cricket Stadium        2  19.3  Chennai Super Kings  Delhi Capitals  MS Dhoni   RA Jadeja   TK Curran             4       0    NaN      NaN   NaN      NaN      NaN         NaN              NaN                NaN                     NaN  2021\n",
       "207132   1254114    2021  2021-10-10  Dubai International Cricket Stadium        2  19.4  Chennai Super Kings  Delhi Capitals  MS Dhoni   RA Jadeja   TK Curran             0       1    1.0      NaN   NaN      NaN      NaN         NaN              NaN                NaN                     NaN  2021\n",
       "207133   1254114    2021  2021-10-10  Dubai International Cricket Stadium        2  19.5  Chennai Super Kings  Delhi Capitals  MS Dhoni   RA Jadeja   TK Curran             4       0    NaN      NaN   NaN      NaN      NaN         NaN              NaN                NaN                     NaN  2021"
      ]
     },
     "execution_count": 20,
     "metadata": {},
     "output_type": "execute_result"
    }
   ],
   "source": [
    "dhoni_slog.tail()"
   ]
  },
  {
   "cell_type": "code",
   "execution_count": 21,
   "id": "3e9b7d24",
   "metadata": {},
   "outputs": [
    {
     "data": {
      "text/plain": [
       "(1703, 23)"
      ]
     },
     "execution_count": 21,
     "metadata": {},
     "output_type": "execute_result"
    }
   ],
   "source": [
    "dhoni_slog.shape"
   ]
  },
  {
   "cell_type": "code",
   "execution_count": 22,
   "id": "164061d4",
   "metadata": {},
   "outputs": [],
   "source": [
    "dhoni_boundary = dhoni[(dhoni['runs_off_bat'] == 6) | (dhoni['runs_off_bat'] == 4)]"
   ]
  },
  {
   "cell_type": "code",
   "execution_count": 23,
   "id": "4b29b74e",
   "metadata": {},
   "outputs": [],
   "source": [
    "dhoni_boundry_slog = dhoni_boundary[(dhoni_boundary['ball']>=15) & (dhoni_boundary['ball']<=20)]"
   ]
  },
  {
   "cell_type": "code",
   "execution_count": 24,
   "id": "b7df7e4d",
   "metadata": {
    "scrolled": false
   },
   "outputs": [
    {
     "data": {
      "text/html": [
       "<div>\n",
       "<style scoped>\n",
       "    .dataframe tbody tr th:only-of-type {\n",
       "        vertical-align: middle;\n",
       "    }\n",
       "\n",
       "    .dataframe tbody tr th {\n",
       "        vertical-align: top;\n",
       "    }\n",
       "\n",
       "    .dataframe thead th {\n",
       "        text-align: right;\n",
       "    }\n",
       "</style>\n",
       "<table border=\"1\" class=\"dataframe\">\n",
       "  <thead>\n",
       "    <tr style=\"text-align: right;\">\n",
       "      <th></th>\n",
       "      <th>match_id</th>\n",
       "      <th>season</th>\n",
       "      <th>start_date</th>\n",
       "      <th>venue</th>\n",
       "      <th>innings</th>\n",
       "      <th>ball</th>\n",
       "      <th>batting_team</th>\n",
       "      <th>bowling_team</th>\n",
       "      <th>striker</th>\n",
       "      <th>non_striker</th>\n",
       "      <th>bowler</th>\n",
       "      <th>runs_off_bat</th>\n",
       "      <th>extras</th>\n",
       "      <th>wides</th>\n",
       "      <th>noballs</th>\n",
       "      <th>byes</th>\n",
       "      <th>legbyes</th>\n",
       "      <th>penalty</th>\n",
       "      <th>wicket_type</th>\n",
       "      <th>player_dismissed</th>\n",
       "      <th>other_wicket_type</th>\n",
       "      <th>other_player_dismissed</th>\n",
       "      <th>year</th>\n",
       "    </tr>\n",
       "  </thead>\n",
       "  <tbody>\n",
       "    <tr>\n",
       "      <th>204183</th>\n",
       "      <td>1254091</td>\n",
       "      <td>2021</td>\n",
       "      <td>2021-09-30</td>\n",
       "      <td>Sharjah Cricket Stadium</td>\n",
       "      <td>2</td>\n",
       "      <td>18.5</td>\n",
       "      <td>Chennai Super Kings</td>\n",
       "      <td>Sunrisers Hyderabad</td>\n",
       "      <td>MS Dhoni</td>\n",
       "      <td>AT Rayudu</td>\n",
       "      <td>B Kumar</td>\n",
       "      <td>4</td>\n",
       "      <td>0</td>\n",
       "      <td>NaN</td>\n",
       "      <td>NaN</td>\n",
       "      <td>NaN</td>\n",
       "      <td>NaN</td>\n",
       "      <td>NaN</td>\n",
       "      <td>NaN</td>\n",
       "      <td>NaN</td>\n",
       "      <td>NaN</td>\n",
       "      <td>NaN</td>\n",
       "      <td>2021</td>\n",
       "    </tr>\n",
       "    <tr>\n",
       "      <th>207127</th>\n",
       "      <td>1254114</td>\n",
       "      <td>2021</td>\n",
       "      <td>2021-10-10</td>\n",
       "      <td>Dubai International Cricket Stadium</td>\n",
       "      <td>2</td>\n",
       "      <td>18.5</td>\n",
       "      <td>Chennai Super Kings</td>\n",
       "      <td>Delhi Capitals</td>\n",
       "      <td>MS Dhoni</td>\n",
       "      <td>MM Ali</td>\n",
       "      <td>Avesh Khan</td>\n",
       "      <td>6</td>\n",
       "      <td>0</td>\n",
       "      <td>NaN</td>\n",
       "      <td>NaN</td>\n",
       "      <td>NaN</td>\n",
       "      <td>NaN</td>\n",
       "      <td>NaN</td>\n",
       "      <td>NaN</td>\n",
       "      <td>NaN</td>\n",
       "      <td>NaN</td>\n",
       "      <td>NaN</td>\n",
       "      <td>2021</td>\n",
       "    </tr>\n",
       "    <tr>\n",
       "      <th>207130</th>\n",
       "      <td>1254114</td>\n",
       "      <td>2021</td>\n",
       "      <td>2021-10-10</td>\n",
       "      <td>Dubai International Cricket Stadium</td>\n",
       "      <td>2</td>\n",
       "      <td>19.2</td>\n",
       "      <td>Chennai Super Kings</td>\n",
       "      <td>Delhi Capitals</td>\n",
       "      <td>MS Dhoni</td>\n",
       "      <td>RA Jadeja</td>\n",
       "      <td>TK Curran</td>\n",
       "      <td>4</td>\n",
       "      <td>0</td>\n",
       "      <td>NaN</td>\n",
       "      <td>NaN</td>\n",
       "      <td>NaN</td>\n",
       "      <td>NaN</td>\n",
       "      <td>NaN</td>\n",
       "      <td>NaN</td>\n",
       "      <td>NaN</td>\n",
       "      <td>NaN</td>\n",
       "      <td>NaN</td>\n",
       "      <td>2021</td>\n",
       "    </tr>\n",
       "    <tr>\n",
       "      <th>207131</th>\n",
       "      <td>1254114</td>\n",
       "      <td>2021</td>\n",
       "      <td>2021-10-10</td>\n",
       "      <td>Dubai International Cricket Stadium</td>\n",
       "      <td>2</td>\n",
       "      <td>19.3</td>\n",
       "      <td>Chennai Super Kings</td>\n",
       "      <td>Delhi Capitals</td>\n",
       "      <td>MS Dhoni</td>\n",
       "      <td>RA Jadeja</td>\n",
       "      <td>TK Curran</td>\n",
       "      <td>4</td>\n",
       "      <td>0</td>\n",
       "      <td>NaN</td>\n",
       "      <td>NaN</td>\n",
       "      <td>NaN</td>\n",
       "      <td>NaN</td>\n",
       "      <td>NaN</td>\n",
       "      <td>NaN</td>\n",
       "      <td>NaN</td>\n",
       "      <td>NaN</td>\n",
       "      <td>NaN</td>\n",
       "      <td>2021</td>\n",
       "    </tr>\n",
       "    <tr>\n",
       "      <th>207133</th>\n",
       "      <td>1254114</td>\n",
       "      <td>2021</td>\n",
       "      <td>2021-10-10</td>\n",
       "      <td>Dubai International Cricket Stadium</td>\n",
       "      <td>2</td>\n",
       "      <td>19.5</td>\n",
       "      <td>Chennai Super Kings</td>\n",
       "      <td>Delhi Capitals</td>\n",
       "      <td>MS Dhoni</td>\n",
       "      <td>RA Jadeja</td>\n",
       "      <td>TK Curran</td>\n",
       "      <td>4</td>\n",
       "      <td>0</td>\n",
       "      <td>NaN</td>\n",
       "      <td>NaN</td>\n",
       "      <td>NaN</td>\n",
       "      <td>NaN</td>\n",
       "      <td>NaN</td>\n",
       "      <td>NaN</td>\n",
       "      <td>NaN</td>\n",
       "      <td>NaN</td>\n",
       "      <td>NaN</td>\n",
       "      <td>2021</td>\n",
       "    </tr>\n",
       "  </tbody>\n",
       "</table>\n",
       "</div>"
      ],
      "text/plain": [
       "        match_id  season  start_date                                venue  innings  ball         batting_team         bowling_team   striker non_striker      bowler  runs_off_bat  extras  wides  noballs  byes  legbyes  penalty wicket_type player_dismissed  other_wicket_type  other_player_dismissed  year\n",
       "204183   1254091    2021  2021-09-30              Sharjah Cricket Stadium        2  18.5  Chennai Super Kings  Sunrisers Hyderabad  MS Dhoni   AT Rayudu     B Kumar             4       0    NaN      NaN   NaN      NaN      NaN         NaN              NaN                NaN                     NaN  2021\n",
       "207127   1254114    2021  2021-10-10  Dubai International Cricket Stadium        2  18.5  Chennai Super Kings       Delhi Capitals  MS Dhoni      MM Ali  Avesh Khan             6       0    NaN      NaN   NaN      NaN      NaN         NaN              NaN                NaN                     NaN  2021\n",
       "207130   1254114    2021  2021-10-10  Dubai International Cricket Stadium        2  19.2  Chennai Super Kings       Delhi Capitals  MS Dhoni   RA Jadeja   TK Curran             4       0    NaN      NaN   NaN      NaN      NaN         NaN              NaN                NaN                     NaN  2021\n",
       "207131   1254114    2021  2021-10-10  Dubai International Cricket Stadium        2  19.3  Chennai Super Kings       Delhi Capitals  MS Dhoni   RA Jadeja   TK Curran             4       0    NaN      NaN   NaN      NaN      NaN         NaN              NaN                NaN                     NaN  2021\n",
       "207133   1254114    2021  2021-10-10  Dubai International Cricket Stadium        2  19.5  Chennai Super Kings       Delhi Capitals  MS Dhoni   RA Jadeja   TK Curran             4       0    NaN      NaN   NaN      NaN      NaN         NaN              NaN                NaN                     NaN  2021"
      ]
     },
     "execution_count": 24,
     "metadata": {},
     "output_type": "execute_result"
    }
   ],
   "source": [
    "dhoni_boundry_slog.tail()"
   ]
  },
  {
   "cell_type": "code",
   "execution_count": 25,
   "id": "2ffa7758",
   "metadata": {},
   "outputs": [
    {
     "name": "stdout",
     "output_type": "stream",
     "text": [
      "For every 4 balls Dhoni has ability to hit a boundry in slog overs\n"
     ]
    }
   ],
   "source": [
    "#Dhoni took balls to hit a boundary in slog overs \n",
    "\n",
    "boundary = len(dhoni_slog)/len(dhoni_boundry_slog)\n",
    "print(\"For every {} balls Dhoni has ability to hit a boundry in slog overs\".format(int(boundary)))"
   ]
  },
  {
   "cell_type": "markdown",
   "id": "3cdec33a",
   "metadata": {},
   "source": [
    "## Analysis of Batsman's performance in slog overs for last 5 years(2017-2021)"
   ]
  },
  {
   "cell_type": "code",
   "execution_count": 26,
   "id": "193b4765",
   "metadata": {},
   "outputs": [],
   "source": [
    "data_last_5_years = data[(data['season']>=2017) & (data['season']<=2021)]"
   ]
  },
  {
   "cell_type": "code",
   "execution_count": 27,
   "id": "b1517a6a",
   "metadata": {},
   "outputs": [
    {
     "data": {
      "text/html": [
       "<div>\n",
       "<style scoped>\n",
       "    .dataframe tbody tr th:only-of-type {\n",
       "        vertical-align: middle;\n",
       "    }\n",
       "\n",
       "    .dataframe tbody tr th {\n",
       "        vertical-align: top;\n",
       "    }\n",
       "\n",
       "    .dataframe thead th {\n",
       "        text-align: right;\n",
       "    }\n",
       "</style>\n",
       "<table border=\"1\" class=\"dataframe\">\n",
       "  <thead>\n",
       "    <tr style=\"text-align: right;\">\n",
       "      <th></th>\n",
       "      <th>match_id</th>\n",
       "      <th>season</th>\n",
       "      <th>start_date</th>\n",
       "      <th>venue</th>\n",
       "      <th>innings</th>\n",
       "      <th>ball</th>\n",
       "      <th>batting_team</th>\n",
       "      <th>bowling_team</th>\n",
       "      <th>striker</th>\n",
       "      <th>non_striker</th>\n",
       "      <th>bowler</th>\n",
       "      <th>runs_off_bat</th>\n",
       "      <th>extras</th>\n",
       "      <th>wides</th>\n",
       "      <th>noballs</th>\n",
       "      <th>byes</th>\n",
       "      <th>legbyes</th>\n",
       "      <th>penalty</th>\n",
       "      <th>wicket_type</th>\n",
       "      <th>player_dismissed</th>\n",
       "      <th>other_wicket_type</th>\n",
       "      <th>other_player_dismissed</th>\n",
       "    </tr>\n",
       "  </thead>\n",
       "  <tbody>\n",
       "    <tr>\n",
       "      <th>208036</th>\n",
       "      <td>1254117</td>\n",
       "      <td>2021</td>\n",
       "      <td>2021-10-15</td>\n",
       "      <td>Dubai International Cricket Stadium</td>\n",
       "      <td>1</td>\n",
       "      <td>14.4</td>\n",
       "      <td>Chennai Super Kings</td>\n",
       "      <td>Kolkata Knight Riders</td>\n",
       "      <td>MM Ali</td>\n",
       "      <td>F du Plessis</td>\n",
       "      <td>VR Iyer</td>\n",
       "      <td>0</td>\n",
       "      <td>1</td>\n",
       "      <td>NaN</td>\n",
       "      <td>NaN</td>\n",
       "      <td>NaN</td>\n",
       "      <td>1.0</td>\n",
       "      <td>NaN</td>\n",
       "      <td>NaN</td>\n",
       "      <td>NaN</td>\n",
       "      <td>NaN</td>\n",
       "      <td>NaN</td>\n",
       "    </tr>\n",
       "    <tr>\n",
       "      <th>208037</th>\n",
       "      <td>1254117</td>\n",
       "      <td>2021</td>\n",
       "      <td>2021-10-15</td>\n",
       "      <td>Dubai International Cricket Stadium</td>\n",
       "      <td>1</td>\n",
       "      <td>14.5</td>\n",
       "      <td>Chennai Super Kings</td>\n",
       "      <td>Kolkata Knight Riders</td>\n",
       "      <td>F du Plessis</td>\n",
       "      <td>MM Ali</td>\n",
       "      <td>VR Iyer</td>\n",
       "      <td>2</td>\n",
       "      <td>0</td>\n",
       "      <td>NaN</td>\n",
       "      <td>NaN</td>\n",
       "      <td>NaN</td>\n",
       "      <td>NaN</td>\n",
       "      <td>NaN</td>\n",
       "      <td>NaN</td>\n",
       "      <td>NaN</td>\n",
       "      <td>NaN</td>\n",
       "      <td>NaN</td>\n",
       "    </tr>\n",
       "    <tr>\n",
       "      <th>208038</th>\n",
       "      <td>1254117</td>\n",
       "      <td>2021</td>\n",
       "      <td>2021-10-15</td>\n",
       "      <td>Dubai International Cricket Stadium</td>\n",
       "      <td>1</td>\n",
       "      <td>14.6</td>\n",
       "      <td>Chennai Super Kings</td>\n",
       "      <td>Kolkata Knight Riders</td>\n",
       "      <td>F du Plessis</td>\n",
       "      <td>MM Ali</td>\n",
       "      <td>VR Iyer</td>\n",
       "      <td>1</td>\n",
       "      <td>0</td>\n",
       "      <td>NaN</td>\n",
       "      <td>NaN</td>\n",
       "      <td>NaN</td>\n",
       "      <td>NaN</td>\n",
       "      <td>NaN</td>\n",
       "      <td>NaN</td>\n",
       "      <td>NaN</td>\n",
       "      <td>NaN</td>\n",
       "      <td>NaN</td>\n",
       "    </tr>\n",
       "    <tr>\n",
       "      <th>208039</th>\n",
       "      <td>1254117</td>\n",
       "      <td>2021</td>\n",
       "      <td>2021-10-15</td>\n",
       "      <td>Dubai International Cricket Stadium</td>\n",
       "      <td>1</td>\n",
       "      <td>12.6</td>\n",
       "      <td>Chennai Super Kings</td>\n",
       "      <td>Kolkata Knight Riders</td>\n",
       "      <td>RV Uthappa</td>\n",
       "      <td>F du Plessis</td>\n",
       "      <td>CV Varun</td>\n",
       "      <td>2</td>\n",
       "      <td>0</td>\n",
       "      <td>NaN</td>\n",
       "      <td>NaN</td>\n",
       "      <td>NaN</td>\n",
       "      <td>NaN</td>\n",
       "      <td>NaN</td>\n",
       "      <td>NaN</td>\n",
       "      <td>NaN</td>\n",
       "      <td>NaN</td>\n",
       "      <td>NaN</td>\n",
       "    </tr>\n",
       "    <tr>\n",
       "      <th>208040</th>\n",
       "      <td>1254117</td>\n",
       "      <td>2021</td>\n",
       "      <td>2021-10-15</td>\n",
       "      <td>Dubai International Cricket Stadium</td>\n",
       "      <td>2</td>\n",
       "      <td>19.6</td>\n",
       "      <td>Kolkata Knight Riders</td>\n",
       "      <td>Chennai Super Kings</td>\n",
       "      <td>LH Ferguson</td>\n",
       "      <td>CV Varun</td>\n",
       "      <td>DJ Bravo</td>\n",
       "      <td>1</td>\n",
       "      <td>0</td>\n",
       "      <td>NaN</td>\n",
       "      <td>NaN</td>\n",
       "      <td>NaN</td>\n",
       "      <td>NaN</td>\n",
       "      <td>NaN</td>\n",
       "      <td>NaN</td>\n",
       "      <td>NaN</td>\n",
       "      <td>NaN</td>\n",
       "      <td>NaN</td>\n",
       "    </tr>\n",
       "  </tbody>\n",
       "</table>\n",
       "</div>"
      ],
      "text/plain": [
       "        match_id  season  start_date                                venue  innings  ball           batting_team           bowling_team       striker   non_striker    bowler  runs_off_bat  extras  wides  noballs  byes  legbyes  penalty wicket_type player_dismissed  other_wicket_type  other_player_dismissed\n",
       "208036   1254117    2021  2021-10-15  Dubai International Cricket Stadium        1  14.4    Chennai Super Kings  Kolkata Knight Riders        MM Ali  F du Plessis   VR Iyer             0       1    NaN      NaN   NaN      1.0      NaN         NaN              NaN                NaN                     NaN\n",
       "208037   1254117    2021  2021-10-15  Dubai International Cricket Stadium        1  14.5    Chennai Super Kings  Kolkata Knight Riders  F du Plessis        MM Ali   VR Iyer             2       0    NaN      NaN   NaN      NaN      NaN         NaN              NaN                NaN                     NaN\n",
       "208038   1254117    2021  2021-10-15  Dubai International Cricket Stadium        1  14.6    Chennai Super Kings  Kolkata Knight Riders  F du Plessis        MM Ali   VR Iyer             1       0    NaN      NaN   NaN      NaN      NaN         NaN              NaN                NaN                     NaN\n",
       "208039   1254117    2021  2021-10-15  Dubai International Cricket Stadium        1  12.6    Chennai Super Kings  Kolkata Knight Riders    RV Uthappa  F du Plessis  CV Varun             2       0    NaN      NaN   NaN      NaN      NaN         NaN              NaN                NaN                     NaN\n",
       "208040   1254117    2021  2021-10-15  Dubai International Cricket Stadium        2  19.6  Kolkata Knight Riders    Chennai Super Kings   LH Ferguson      CV Varun  DJ Bravo             1       0    NaN      NaN   NaN      NaN      NaN         NaN              NaN                NaN                     NaN"
      ]
     },
     "execution_count": 27,
     "metadata": {},
     "output_type": "execute_result"
    }
   ],
   "source": [
    "data_last_5_years.tail()"
   ]
  },
  {
   "cell_type": "code",
   "execution_count": 28,
   "id": "30e0dfef",
   "metadata": {},
   "outputs": [],
   "source": [
    "slog_batsman_df1 = pd.DataFrame(data_last_5_years[(data_last_5_years['ball']>=15) & (data_last_5_years['ball']<=20)].groupby(['striker'])['runs_off_bat'].sum())"
   ]
  },
  {
   "cell_type": "code",
   "execution_count": 29,
   "id": "8938654c",
   "metadata": {},
   "outputs": [],
   "source": [
    "slog_batsman_df2 = pd.DataFrame(data_last_5_years[(data_last_5_years['ball']>=15) & (data_last_5_years['ball']<=20)].groupby(['striker'])['ball'].count())"
   ]
  },
  {
   "cell_type": "code",
   "execution_count": 30,
   "id": "efb3964d",
   "metadata": {},
   "outputs": [],
   "source": [
    "slog_batsman_df3 = slog_batsman_df1.merge(slog_batsman_df2, on='striker', how='left')"
   ]
  },
  {
   "cell_type": "code",
   "execution_count": 31,
   "id": "a2004b66",
   "metadata": {},
   "outputs": [],
   "source": [
    "slog_batsman_df3['strike_rate'] = 100 *  (slog_batsman_df3['runs_off_bat']/slog_batsman_df3['ball'])"
   ]
  },
  {
   "cell_type": "code",
   "execution_count": 32,
   "id": "57e88de5",
   "metadata": {},
   "outputs": [],
   "source": [
    "slog_batsman_df3 = slog_batsman_df3[slog_batsman_df3['ball']>=100]"
   ]
  },
  {
   "cell_type": "code",
   "execution_count": 33,
   "id": "54180f08",
   "metadata": {},
   "outputs": [],
   "source": [
    "slog_batsman_df3 = slog_batsman_df3.reset_index()"
   ]
  },
  {
   "cell_type": "code",
   "execution_count": 34,
   "id": "993ca4cb",
   "metadata": {
    "scrolled": false
   },
   "outputs": [
    {
     "data": {
      "image/png": "[encoded data removed]",
      "text/plain": [
       "<Figure size 1800x600 with 1 Axes>"
      ]
     },
     "metadata": {},
     "output_type": "display_data"
    }
   ],
   "source": [
    "plt.figure(figsize=(18,6))\n",
    "plt.scatter(slog_batsman_df3['strike_rate'], slog_batsman_df3['runs_off_bat'])\n",
    "plt.title(\"Batsman in Slog overs in Last 5 years\")\n",
    "plt.xlabel(\"Strike Rate\")\n",
    "plt.ylabel(\"Runs\")\n",
    "plt.axhline(500, ls=\"--\", color='black')\n",
    "plt.axvline(160, ls=\"--\", color='black')\n",
    "\n",
    "for i in range(len(slog_batsman_df3)):\n",
    "    if (slog_batsman_df3['strike_rate'][i] >= 160) & (slog_batsman_df3['runs_off_bat'][i]>=500) | (slog_batsman_df3['striker'][i] == 'MS Dhoni'):\n",
    "        plt.text(x=slog_batsman_df3['strike_rate'][i]+1, y=slog_batsman_df3['runs_off_bat'][i], s=slog_batsman_df3['striker'][i])"
   ]
  },
  {
   "cell_type": "raw",
   "id": "147a2963",
   "metadata": {},
   "source": [
    "In Last 5 years Dhoni has mainatined his strike rate around 160 with highest runs in slog overs and in this competition AB De Villiers, AD Russell, Riasbh Pant have maintained the strike rate of 170+ in the slog overs. So, we can conclude that MS Dhoni can finish in his style in the death overs with a good strike rate."
   ]
  },
  {
   "cell_type": "markdown",
   "id": "fe9aabb8",
   "metadata": {},
   "source": [
    "## Team Contribution"
   ]
  },
  {
   "cell_type": "code",
   "execution_count": 35,
   "id": "6b7ac65f",
   "metadata": {},
   "outputs": [
    {
     "name": "stdout",
     "output_type": "stream",
     "text": [
      "16.050593527004633%\n"
     ]
    }
   ],
   "source": [
    "#Team runs contribution of Dhoni in CSK\n",
    "\n",
    "TC_dhoni = sum(dhoni['runs_off_bat'])/sum(data[data['batting_team'] == 'Chennai Super Kings']['runs_off_bat']) * 100\n",
    "print(\"{}%\".format(TC_dhoni))"
   ]
  },
  {
   "cell_type": "raw",
   "id": "45c3ed78",
   "metadata": {},
   "source": [
    "In Team's run contribution Dhoni has provied 16% of total CSK runs in the IPL. "
   ]
  },
  {
   "cell_type": "markdown",
   "id": "e642aa08",
   "metadata": {},
   "source": [
    "## Analysis of MS Dhoni's Strike Rate and Runs Over the years(2008-2021)"
   ]
  },
  {
   "cell_type": "code",
   "execution_count": 36,
   "id": "0fb6c519",
   "metadata": {},
   "outputs": [],
   "source": [
    "df1 = pd.DataFrame(dhoni.groupby(['season'])['runs_off_bat'].sum())"
   ]
  },
  {
   "cell_type": "code",
   "execution_count": 37,
   "id": "6397b027",
   "metadata": {},
   "outputs": [],
   "source": [
    "df2 = pd.DataFrame(dhoni.groupby(['season'])['ball'].count())"
   ]
  },
  {
   "cell_type": "code",
   "execution_count": 38,
   "id": "38252703",
   "metadata": {},
   "outputs": [],
   "source": [
    "df3 = df1.merge(df2, on='season', how='left')"
   ]
  },
  {
   "cell_type": "code",
   "execution_count": 39,
   "id": "12f6dad7",
   "metadata": {},
   "outputs": [],
   "source": [
    "df3 = df3.reset_index()"
   ]
  },
  {
   "cell_type": "code",
   "execution_count": 40,
   "id": "157af2fe",
   "metadata": {},
   "outputs": [
    {
     "data": {
      "text/html": [
       "<div>\n",
       "<style scoped>\n",
       "    .dataframe tbody tr th:only-of-type {\n",
       "        vertical-align: middle;\n",
       "    }\n",
       "\n",
       "    .dataframe tbody tr th {\n",
       "        vertical-align: top;\n",
       "    }\n",
       "\n",
       "    .dataframe thead th {\n",
       "        text-align: right;\n",
       "    }\n",
       "</style>\n",
       "<table border=\"1\" class=\"dataframe\">\n",
       "  <thead>\n",
       "    <tr style=\"text-align: right;\">\n",
       "      <th></th>\n",
       "      <th>season</th>\n",
       "      <th>runs_off_bat</th>\n",
       "      <th>ball</th>\n",
       "    </tr>\n",
       "  </thead>\n",
       "  <tbody>\n",
       "    <tr>\n",
       "      <th>0</th>\n",
       "      <td>2008</td>\n",
       "      <td>414</td>\n",
       "      <td>319</td>\n",
       "    </tr>\n",
       "    <tr>\n",
       "      <th>1</th>\n",
       "      <td>2009</td>\n",
       "      <td>332</td>\n",
       "      <td>270</td>\n",
       "    </tr>\n",
       "    <tr>\n",
       "      <th>2</th>\n",
       "      <td>2010</td>\n",
       "      <td>287</td>\n",
       "      <td>215</td>\n",
       "    </tr>\n",
       "    <tr>\n",
       "      <th>3</th>\n",
       "      <td>2011</td>\n",
       "      <td>392</td>\n",
       "      <td>247</td>\n",
       "    </tr>\n",
       "    <tr>\n",
       "      <th>4</th>\n",
       "      <td>2012</td>\n",
       "      <td>358</td>\n",
       "      <td>283</td>\n",
       "    </tr>\n",
       "  </tbody>\n",
       "</table>\n",
       "</div>"
      ],
      "text/plain": [
       "   season  runs_off_bat  ball\n",
       "0    2008           414   319\n",
       "1    2009           332   270\n",
       "2    2010           287   215\n",
       "3    2011           392   247\n",
       "4    2012           358   283"
      ]
     },
     "execution_count": 40,
     "metadata": {},
     "output_type": "execute_result"
    }
   ],
   "source": [
    "df3.head()"
   ]
  },
  {
   "cell_type": "code",
   "execution_count": 41,
   "id": "d78110c8",
   "metadata": {},
   "outputs": [],
   "source": [
    "df3['strike_rate'] = 100 * (df3['runs_off_bat']/df3['ball'])"
   ]
  },
  {
   "cell_type": "code",
   "execution_count": 42,
   "id": "2990102a",
   "metadata": {
    "scrolled": false
   },
   "outputs": [
    {
     "data": {
      "image/png": "[encoded data removed]",
      "text/plain": [
       "<Figure size 1500x600 with 1 Axes>"
      ]
     },
     "metadata": {},
     "output_type": "display_data"
    }
   ],
   "source": [
    "plt.figure(figsize=(15,6))\n",
    "plt.scatter(df3['strike_rate'], df3['runs_off_bat'])\n",
    "plt.axhline(250, ls=\"--\", color='black')\n",
    "plt.axvline(130, ls=\"--\", color='black')\n",
    "plt.title(\"The Batting Performance of Dhoni over the years(2008-2021)\")\n",
    "plt.xlabel(\"Strike Rate\")\n",
    "plt.ylabel(\"Runs\")\n",
    "for i in range(len(df3)):\n",
    "    if (df3['strike_rate'][i] >=130) & (df3['runs_off_bat'][i]>=250) | (df3['strike_rate'][i] < 130) & (df3['runs_off_bat'][i] <250):\n",
    "        plt.text(x=df3['strike_rate'][i]+1, y=df3['runs_off_bat'][i], s=df3['season'][i])"
   ]
  },
  {
   "cell_type": "code",
   "execution_count": null,
   "id": "1681139f",
   "metadata": {},
   "outputs": [],
   "source": []
  }
 ],
 "metadata": {
  "kernelspec": {
   "display_name": "Python 3 (ipykernel)",
   "language": "python",
   "name": "python3"
  },
  "language_info": {
   "codemirror_mode": {
    "name": "ipython",
    "version": 3
   },
   "file_extension": ".py",
   "mimetype": "text/x-python",
   "name": "python",
   "nbconvert_exporter": "python",
   "pygments_lexer": "ipython3",
   "version": "3.10.9"
  }
 },
 "nbformat": 4,
 "nbformat_minor": 5
}
