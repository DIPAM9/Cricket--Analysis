{
 "cells": [
  {
   "cell_type": "code",
   "execution_count": 1,
   "id": "101a08f7",
   "metadata": {},
   "outputs": [],
   "source": [
    "import numpy as np\n",
    "import pandas as pd\n",
    "import matplotlib.pyplot as plt\n",
    "%matplotlib inline\n",
    "from prettytable import PrettyTable"
   ]
  },
  {
   "cell_type": "markdown",
   "id": "2c28a600",
   "metadata": {},
   "source": [
    "## Data Gathering"
   ]
  },
  {
   "cell_type": "code",
   "execution_count": 2,
   "id": "30557d79",
   "metadata": {},
   "outputs": [],
   "source": [
    "data = pd.read_csv(\"ODI_data.csv\")"
   ]
  },
  {
   "cell_type": "code",
   "execution_count": 3,
   "id": "a588d230",
   "metadata": {
    "scrolled": false
   },
   "outputs": [
    {
     "data": {
      "text/html": [
       "<div>\n",
       "<style scoped>\n",
       "    .dataframe tbody tr th:only-of-type {\n",
       "        vertical-align: middle;\n",
       "    }\n",
       "\n",
       "    .dataframe tbody tr th {\n",
       "        vertical-align: top;\n",
       "    }\n",
       "\n",
       "    .dataframe thead th {\n",
       "        text-align: right;\n",
       "    }\n",
       "</style>\n",
       "<table border=\"1\" class=\"dataframe\">\n",
       "  <thead>\n",
       "    <tr style=\"text-align: right;\">\n",
       "      <th></th>\n",
       "      <th>Innings Player</th>\n",
       "      <th>Innings Runs Scored</th>\n",
       "      <th>Innings Runs Scored Num</th>\n",
       "      <th>Innings Minutes Batted</th>\n",
       "      <th>Innings Batted Flag</th>\n",
       "      <th>Innings Not Out Flag</th>\n",
       "      <th>Innings Balls Faced</th>\n",
       "      <th>Innings Boundary Fours</th>\n",
       "      <th>Innings Boundary Sixes</th>\n",
       "      <th>Innings Batting Strike Rate</th>\n",
       "      <th>...</th>\n",
       "      <th>Innings Overs Bowled</th>\n",
       "      <th>Innings Bowled Flag</th>\n",
       "      <th>Innings Maidens Bowled</th>\n",
       "      <th>Innings Runs Conceded</th>\n",
       "      <th>Innings Wickets Taken</th>\n",
       "      <th>4 Wickets</th>\n",
       "      <th>5 Wickets</th>\n",
       "      <th>10 Wickets</th>\n",
       "      <th>Innings Wickets Taken Buckets</th>\n",
       "      <th>Innings Economy Rate</th>\n",
       "    </tr>\n",
       "  </thead>\n",
       "  <tbody>\n",
       "    <tr>\n",
       "      <th>0</th>\n",
       "      <td>E Lewis</td>\n",
       "      <td>65</td>\n",
       "      <td>65</td>\n",
       "      <td>128</td>\n",
       "      <td>1.0</td>\n",
       "      <td>0.0</td>\n",
       "      <td>80</td>\n",
       "      <td>8</td>\n",
       "      <td>1</td>\n",
       "      <td>81.25</td>\n",
       "      <td>...</td>\n",
       "      <td>NaN</td>\n",
       "      <td>NaN</td>\n",
       "      <td>NaN</td>\n",
       "      <td>NaN</td>\n",
       "      <td>NaN</td>\n",
       "      <td>NaN</td>\n",
       "      <td>NaN</td>\n",
       "      <td>NaN</td>\n",
       "      <td>NaN</td>\n",
       "      <td>NaN</td>\n",
       "    </tr>\n",
       "    <tr>\n",
       "      <th>1</th>\n",
       "      <td>N Pooran</td>\n",
       "      <td>42</td>\n",
       "      <td>42</td>\n",
       "      <td>69</td>\n",
       "      <td>1.0</td>\n",
       "      <td>0.0</td>\n",
       "      <td>52</td>\n",
       "      <td>4</td>\n",
       "      <td>1</td>\n",
       "      <td>80.76</td>\n",
       "      <td>...</td>\n",
       "      <td>NaN</td>\n",
       "      <td>NaN</td>\n",
       "      <td>NaN</td>\n",
       "      <td>NaN</td>\n",
       "      <td>NaN</td>\n",
       "      <td>NaN</td>\n",
       "      <td>NaN</td>\n",
       "      <td>NaN</td>\n",
       "      <td>NaN</td>\n",
       "      <td>NaN</td>\n",
       "    </tr>\n",
       "    <tr>\n",
       "      <th>2</th>\n",
       "      <td>SO Hetmyer</td>\n",
       "      <td>18</td>\n",
       "      <td>18</td>\n",
       "      <td>31</td>\n",
       "      <td>1.0</td>\n",
       "      <td>0.0</td>\n",
       "      <td>20</td>\n",
       "      <td>2</td>\n",
       "      <td>0</td>\n",
       "      <td>90</td>\n",
       "      <td>...</td>\n",
       "      <td>NaN</td>\n",
       "      <td>NaN</td>\n",
       "      <td>NaN</td>\n",
       "      <td>NaN</td>\n",
       "      <td>NaN</td>\n",
       "      <td>NaN</td>\n",
       "      <td>NaN</td>\n",
       "      <td>NaN</td>\n",
       "      <td>NaN</td>\n",
       "      <td>NaN</td>\n",
       "    </tr>\n",
       "    <tr>\n",
       "      <th>3</th>\n",
       "      <td>RL Chase</td>\n",
       "      <td>18</td>\n",
       "      <td>18</td>\n",
       "      <td>34</td>\n",
       "      <td>1.0</td>\n",
       "      <td>0.0</td>\n",
       "      <td>23</td>\n",
       "      <td>0</td>\n",
       "      <td>0</td>\n",
       "      <td>78.26</td>\n",
       "      <td>...</td>\n",
       "      <td>NaN</td>\n",
       "      <td>NaN</td>\n",
       "      <td>NaN</td>\n",
       "      <td>NaN</td>\n",
       "      <td>NaN</td>\n",
       "      <td>NaN</td>\n",
       "      <td>NaN</td>\n",
       "      <td>NaN</td>\n",
       "      <td>NaN</td>\n",
       "      <td>NaN</td>\n",
       "    </tr>\n",
       "    <tr>\n",
       "      <th>4</th>\n",
       "      <td>SS Cottrell</td>\n",
       "      <td>17</td>\n",
       "      <td>17</td>\n",
       "      <td>23</td>\n",
       "      <td>1.0</td>\n",
       "      <td>0.0</td>\n",
       "      <td>18</td>\n",
       "      <td>2</td>\n",
       "      <td>1</td>\n",
       "      <td>94.44</td>\n",
       "      <td>...</td>\n",
       "      <td>NaN</td>\n",
       "      <td>NaN</td>\n",
       "      <td>NaN</td>\n",
       "      <td>NaN</td>\n",
       "      <td>NaN</td>\n",
       "      <td>NaN</td>\n",
       "      <td>NaN</td>\n",
       "      <td>NaN</td>\n",
       "      <td>NaN</td>\n",
       "      <td>NaN</td>\n",
       "    </tr>\n",
       "    <tr>\n",
       "      <th>5</th>\n",
       "      <td>JO Holder</td>\n",
       "      <td>13*</td>\n",
       "      <td>13</td>\n",
       "      <td>38</td>\n",
       "      <td>1.0</td>\n",
       "      <td>1.0</td>\n",
       "      <td>19</td>\n",
       "      <td>0</td>\n",
       "      <td>0</td>\n",
       "      <td>68.42</td>\n",
       "      <td>...</td>\n",
       "      <td>NaN</td>\n",
       "      <td>NaN</td>\n",
       "      <td>NaN</td>\n",
       "      <td>NaN</td>\n",
       "      <td>NaN</td>\n",
       "      <td>NaN</td>\n",
       "      <td>NaN</td>\n",
       "      <td>NaN</td>\n",
       "      <td>NaN</td>\n",
       "      <td>NaN</td>\n",
       "    </tr>\n",
       "    <tr>\n",
       "      <th>6</th>\n",
       "      <td>CH Gayle</td>\n",
       "      <td>11</td>\n",
       "      <td>11</td>\n",
       "      <td>49</td>\n",
       "      <td>1.0</td>\n",
       "      <td>0.0</td>\n",
       "      <td>24</td>\n",
       "      <td>1</td>\n",
       "      <td>0</td>\n",
       "      <td>45.83</td>\n",
       "      <td>...</td>\n",
       "      <td>NaN</td>\n",
       "      <td>NaN</td>\n",
       "      <td>NaN</td>\n",
       "      <td>NaN</td>\n",
       "      <td>NaN</td>\n",
       "      <td>NaN</td>\n",
       "      <td>NaN</td>\n",
       "      <td>NaN</td>\n",
       "      <td>NaN</td>\n",
       "      <td>NaN</td>\n",
       "    </tr>\n",
       "    <tr>\n",
       "      <th>7</th>\n",
       "      <td>SD Hope</td>\n",
       "      <td>5</td>\n",
       "      <td>5</td>\n",
       "      <td>14</td>\n",
       "      <td>1.0</td>\n",
       "      <td>0.0</td>\n",
       "      <td>10</td>\n",
       "      <td>0</td>\n",
       "      <td>0</td>\n",
       "      <td>50</td>\n",
       "      <td>...</td>\n",
       "      <td>NaN</td>\n",
       "      <td>NaN</td>\n",
       "      <td>NaN</td>\n",
       "      <td>NaN</td>\n",
       "      <td>NaN</td>\n",
       "      <td>NaN</td>\n",
       "      <td>NaN</td>\n",
       "      <td>NaN</td>\n",
       "      <td>NaN</td>\n",
       "      <td>NaN</td>\n",
       "    </tr>\n",
       "    <tr>\n",
       "      <th>8</th>\n",
       "      <td>CR Brathwaite</td>\n",
       "      <td>0</td>\n",
       "      <td>0</td>\n",
       "      <td>5</td>\n",
       "      <td>1.0</td>\n",
       "      <td>0.0</td>\n",
       "      <td>3</td>\n",
       "      <td>0</td>\n",
       "      <td>0</td>\n",
       "      <td>0</td>\n",
       "      <td>...</td>\n",
       "      <td>NaN</td>\n",
       "      <td>NaN</td>\n",
       "      <td>NaN</td>\n",
       "      <td>NaN</td>\n",
       "      <td>NaN</td>\n",
       "      <td>NaN</td>\n",
       "      <td>NaN</td>\n",
       "      <td>NaN</td>\n",
       "      <td>NaN</td>\n",
       "      <td>NaN</td>\n",
       "    </tr>\n",
       "    <tr>\n",
       "      <th>9</th>\n",
       "      <td>KAJ Roach</td>\n",
       "      <td>0</td>\n",
       "      <td>0</td>\n",
       "      <td>5</td>\n",
       "      <td>1.0</td>\n",
       "      <td>0.0</td>\n",
       "      <td>3</td>\n",
       "      <td>0</td>\n",
       "      <td>0</td>\n",
       "      <td>0</td>\n",
       "      <td>...</td>\n",
       "      <td>NaN</td>\n",
       "      <td>NaN</td>\n",
       "      <td>NaN</td>\n",
       "      <td>NaN</td>\n",
       "      <td>NaN</td>\n",
       "      <td>NaN</td>\n",
       "      <td>NaN</td>\n",
       "      <td>NaN</td>\n",
       "      <td>NaN</td>\n",
       "      <td>NaN</td>\n",
       "    </tr>\n",
       "  </tbody>\n",
       "</table>\n",
       "<p>10 rows × 28 columns</p>\n",
       "</div>"
      ],
      "text/plain": [
       "  Innings Player Innings Runs Scored Innings Runs Scored Num  \\\n",
       "0        E Lewis                  65                      65   \n",
       "1       N Pooran                  42                      42   \n",
       "2     SO Hetmyer                  18                      18   \n",
       "3       RL Chase                  18                      18   \n",
       "4    SS Cottrell                  17                      17   \n",
       "5      JO Holder                 13*                      13   \n",
       "6       CH Gayle                  11                      11   \n",
       "7        SD Hope                   5                       5   \n",
       "8  CR Brathwaite                   0                       0   \n",
       "9      KAJ Roach                   0                       0   \n",
       "\n",
       "  Innings Minutes Batted  Innings Batted Flag  Innings Not Out Flag  \\\n",
       "0                    128                  1.0                   0.0   \n",
       "1                     69                  1.0                   0.0   \n",
       "2                     31                  1.0                   0.0   \n",
       "3                     34                  1.0                   0.0   \n",
       "4                     23                  1.0                   0.0   \n",
       "5                     38                  1.0                   1.0   \n",
       "6                     49                  1.0                   0.0   \n",
       "7                     14                  1.0                   0.0   \n",
       "8                      5                  1.0                   0.0   \n",
       "9                      5                  1.0                   0.0   \n",
       "\n",
       "  Innings Balls Faced Innings Boundary Fours Innings Boundary Sixes  \\\n",
       "0                  80                      8                      1   \n",
       "1                  52                      4                      1   \n",
       "2                  20                      2                      0   \n",
       "3                  23                      0                      0   \n",
       "4                  18                      2                      1   \n",
       "5                  19                      0                      0   \n",
       "6                  24                      1                      0   \n",
       "7                  10                      0                      0   \n",
       "8                   3                      0                      0   \n",
       "9                   3                      0                      0   \n",
       "\n",
       "  Innings Batting Strike Rate  ... Innings Overs Bowled Innings Bowled Flag  \\\n",
       "0                       81.25  ...                  NaN                 NaN   \n",
       "1                       80.76  ...                  NaN                 NaN   \n",
       "2                          90  ...                  NaN                 NaN   \n",
       "3                       78.26  ...                  NaN                 NaN   \n",
       "4                       94.44  ...                  NaN                 NaN   \n",
       "5                       68.42  ...                  NaN                 NaN   \n",
       "6                       45.83  ...                  NaN                 NaN   \n",
       "7                          50  ...                  NaN                 NaN   \n",
       "8                           0  ...                  NaN                 NaN   \n",
       "9                           0  ...                  NaN                 NaN   \n",
       "\n",
       "  Innings Maidens Bowled Innings Runs Conceded Innings Wickets Taken  \\\n",
       "0                    NaN                   NaN                   NaN   \n",
       "1                    NaN                   NaN                   NaN   \n",
       "2                    NaN                   NaN                   NaN   \n",
       "3                    NaN                   NaN                   NaN   \n",
       "4                    NaN                   NaN                   NaN   \n",
       "5                    NaN                   NaN                   NaN   \n",
       "6                    NaN                   NaN                   NaN   \n",
       "7                    NaN                   NaN                   NaN   \n",
       "8                    NaN                   NaN                   NaN   \n",
       "9                    NaN                   NaN                   NaN   \n",
       "\n",
       "   4 Wickets  5 Wickets 10 Wickets Innings Wickets Taken Buckets  \\\n",
       "0        NaN        NaN        NaN                           NaN   \n",
       "1        NaN        NaN        NaN                           NaN   \n",
       "2        NaN        NaN        NaN                           NaN   \n",
       "3        NaN        NaN        NaN                           NaN   \n",
       "4        NaN        NaN        NaN                           NaN   \n",
       "5        NaN        NaN        NaN                           NaN   \n",
       "6        NaN        NaN        NaN                           NaN   \n",
       "7        NaN        NaN        NaN                           NaN   \n",
       "8        NaN        NaN        NaN                           NaN   \n",
       "9        NaN        NaN        NaN                           NaN   \n",
       "\n",
       "   Innings Economy Rate  \n",
       "0                   NaN  \n",
       "1                   NaN  \n",
       "2                   NaN  \n",
       "3                   NaN  \n",
       "4                   NaN  \n",
       "5                   NaN  \n",
       "6                   NaN  \n",
       "7                   NaN  \n",
       "8                   NaN  \n",
       "9                   NaN  \n",
       "\n",
       "[10 rows x 28 columns]"
      ]
     },
     "execution_count": 3,
     "metadata": {},
     "output_type": "execute_result"
    }
   ],
   "source": [
    "data.head(10)"
   ]
  },
  {
   "cell_type": "code",
   "execution_count": 4,
   "id": "3fc80bc1",
   "metadata": {},
   "outputs": [
    {
     "data": {
      "text/plain": [
       "Index(['Innings Player', 'Innings Runs Scored', 'Innings Runs Scored Num',\n",
       "       'Innings Minutes Batted', 'Innings Batted Flag', 'Innings Not Out Flag',\n",
       "       'Innings Balls Faced', 'Innings Boundary Fours',\n",
       "       'Innings Boundary Sixes', 'Innings Batting Strike Rate',\n",
       "       'Innings Number', 'Opposition', 'Ground', 'Innings Date', 'Country',\n",
       "       '50's', '100's', 'Innings Runs Scored Buckets', 'Innings Overs Bowled',\n",
       "       'Innings Bowled Flag', 'Innings Maidens Bowled',\n",
       "       'Innings Runs Conceded', 'Innings Wickets Taken', '4 Wickets',\n",
       "       '5 Wickets', '10 Wickets', 'Innings Wickets Taken Buckets',\n",
       "       'Innings Economy Rate'],\n",
       "      dtype='object')"
      ]
     },
     "execution_count": 4,
     "metadata": {},
     "output_type": "execute_result"
    }
   ],
   "source": [
    "data.columns"
   ]
  },
  {
   "cell_type": "code",
   "execution_count": 5,
   "id": "9af36909",
   "metadata": {},
   "outputs": [
    {
     "data": {
      "text/plain": [
       "(171968, 28)"
      ]
     },
     "execution_count": 5,
     "metadata": {},
     "output_type": "execute_result"
    }
   ],
   "source": [
    "data.shape"
   ]
  },
  {
   "cell_type": "code",
   "execution_count": 6,
   "id": "a37e3790",
   "metadata": {},
   "outputs": [
    {
     "data": {
      "text/html": [
       "<style>.container { width:100% !important; }</style>"
      ],
      "text/plain": [
       "<IPython.core.display.HTML object>"
      ]
     },
     "metadata": {},
     "output_type": "display_data"
    }
   ],
   "source": [
    "from IPython.display import display, HTML\n",
    "display(HTML(\"<style>.container { width:100% !important; }</style>\"))"
   ]
  },
  {
   "cell_type": "markdown",
   "id": "93c537ec",
   "metadata": {},
   "source": [
    "## Data Cleaning"
   ]
  },
  {
   "cell_type": "code",
   "execution_count": 7,
   "id": "e74bc078",
   "metadata": {},
   "outputs": [
    {
     "data": {
      "text/plain": [
       "array(['50-99', '0-49', '100-149', '-', nan, '150-199', '200+'],\n",
       "      dtype=object)"
      ]
     },
     "execution_count": 7,
     "metadata": {},
     "output_type": "execute_result"
    }
   ],
   "source": [
    "data['Innings Runs Scored Buckets'].unique()"
   ]
  },
  {
   "cell_type": "code",
   "execution_count": 8,
   "id": "b577f5ef",
   "metadata": {},
   "outputs": [
    {
     "data": {
      "text/plain": [
       "array(['65', '42', '18', '17', '13', '11', '5', '0', '120', '71', '20',\n",
       "       '16', '3', '2', '1', '-', nan, '40', '6', '4', '87', '54', '46',\n",
       "       '30', '12', '69', '39', '14', '10', '9', '8', '7', '82', '52',\n",
       "       '41', '15', '98', '43', '19', '111', '48', '36', '25', '67', '60',\n",
       "       '84', '59', '55', '47', '85', '49', '45', '34', '29', '22', '74',\n",
       "       '28', '77', '50', '32', '23', '35', '122', '100', '95', '103',\n",
       "       '113', '53', '96', '27', '64', '58', '33', '31', '73', '56', '86',\n",
       "       '62', '106', '24', '57', '104', '26', '66', '51', '118', '105',\n",
       "       '101', '21', '79', '44', '102', '88', '80', '72', '97', '68', '89',\n",
       "       '38', '83', '63', '148', '166', '90', '76', '37', '70', '124',\n",
       "       '94', '140', '153', '107', '117', '121', '92', '78', '75', '114',\n",
       "       '115', '130', '128', '151', '110', '138', '135', '109', '61',\n",
       "       '179', '170', '112', '116', '91', '143', '93', '123', '145', '81',\n",
       "       '150', '162', '108', '131', '133', '137', '146', '139', '125',\n",
       "       '129', '157', '152', '144', '99', '127', '210', '147', '126',\n",
       "       '181', '160', '180', '208', '176', '168', '141', '132', '119',\n",
       "       '154', '185', '134', '156', '164', '173', '178', '171', '149',\n",
       "       '237', '159', '161', '215', '264', '136', '169', '209', '174',\n",
       "       '189', '183', '163', '219', '158', '175', '177', '200', '194',\n",
       "       '142', '172', '186', '188', '167'], dtype=object)"
      ]
     },
     "execution_count": 8,
     "metadata": {},
     "output_type": "execute_result"
    }
   ],
   "source": [
    "data['Innings Runs Scored Num'].unique()"
   ]
  },
  {
   "cell_type": "code",
   "execution_count": 9,
   "id": "2f2542c7",
   "metadata": {},
   "outputs": [],
   "source": [
    "data = data[data['Innings Runs Scored Num'] != \"-\"]"
   ]
  },
  {
   "cell_type": "code",
   "execution_count": 10,
   "id": "d50082fa",
   "metadata": {},
   "outputs": [],
   "source": [
    "data = data.dropna(subset = ['Innings Runs Scored Num'])"
   ]
  },
  {
   "cell_type": "code",
   "execution_count": 11,
   "id": "fd19e2d9",
   "metadata": {},
   "outputs": [
    {
     "data": {
      "text/plain": [
       "(67595, 28)"
      ]
     },
     "execution_count": 11,
     "metadata": {},
     "output_type": "execute_result"
    }
   ],
   "source": [
    "data.shape"
   ]
  },
  {
   "cell_type": "code",
   "execution_count": 12,
   "id": "7328a03c",
   "metadata": {},
   "outputs": [],
   "source": [
    "data['Innings Runs Scored Num'] = data['Innings Runs Scored Num'].astype('int')"
   ]
  },
  {
   "cell_type": "code",
   "execution_count": 13,
   "id": "b260ca38",
   "metadata": {},
   "outputs": [],
   "source": [
    "data['Innings Balls Faced'] = data['Innings Balls Faced'].astype('int')"
   ]
  },
  {
   "cell_type": "markdown",
   "id": "986b6a57",
   "metadata": {},
   "source": [
    "## Data Preprocessing"
   ]
  },
  {
   "cell_type": "code",
   "execution_count": 14,
   "id": "7914ee58",
   "metadata": {},
   "outputs": [
    {
     "name": "stdout",
     "output_type": "stream",
     "text": [
      "<class 'pandas.core.frame.DataFrame'>\n",
      "Int64Index: 67595 entries, 0 to 171941\n",
      "Data columns (total 28 columns):\n",
      " #   Column                         Non-Null Count  Dtype  \n",
      "---  ------                         --------------  -----  \n",
      " 0   Innings Player                 67595 non-null  object \n",
      " 1   Innings Runs Scored            67595 non-null  object \n",
      " 2   Innings Runs Scored Num        67595 non-null  int32  \n",
      " 3   Innings Minutes Batted         67595 non-null  object \n",
      " 4   Innings Batted Flag            67595 non-null  float64\n",
      " 5   Innings Not Out Flag           67595 non-null  float64\n",
      " 6   Innings Balls Faced            67595 non-null  int32  \n",
      " 7   Innings Boundary Fours         67595 non-null  object \n",
      " 8   Innings Boundary Sixes         67595 non-null  object \n",
      " 9   Innings Batting Strike Rate    67595 non-null  object \n",
      " 10  Innings Number                 67595 non-null  object \n",
      " 11  Opposition                     67595 non-null  object \n",
      " 12  Ground                         67595 non-null  object \n",
      " 13  Innings Date                   67595 non-null  object \n",
      " 14  Country                        67595 non-null  object \n",
      " 15  50's                           67595 non-null  float64\n",
      " 16  100's                          67595 non-null  float64\n",
      " 17  Innings Runs Scored Buckets    67595 non-null  object \n",
      " 18  Innings Overs Bowled           0 non-null      object \n",
      " 19  Innings Bowled Flag            0 non-null      float64\n",
      " 20  Innings Maidens Bowled         0 non-null      object \n",
      " 21  Innings Runs Conceded          0 non-null      object \n",
      " 22  Innings Wickets Taken          0 non-null      object \n",
      " 23  4 Wickets                      0 non-null      float64\n",
      " 24  5 Wickets                      0 non-null      float64\n",
      " 25  10 Wickets                     0 non-null      float64\n",
      " 26  Innings Wickets Taken Buckets  0 non-null      object \n",
      " 27  Innings Economy Rate           0 non-null      object \n",
      "dtypes: float64(8), int32(2), object(18)\n",
      "memory usage: 14.4+ MB\n"
     ]
    }
   ],
   "source": [
    "data.info()"
   ]
  },
  {
   "cell_type": "code",
   "execution_count": 15,
   "id": "6c5e456f",
   "metadata": {},
   "outputs": [
    {
     "name": "stderr",
     "output_type": "stream",
     "text": [
      "C:\\Users\\user\\AppData\\Local\\Temp\\ipykernel_21204\\2816701943.py:1: UserWarning: Parsing dates in DD/MM/YYYY format when dayfirst=False (the default) was specified. This may lead to inconsistently parsed dates! Specify a format to ensure consistent parsing.\n",
      "  data['year'] = pd.to_datetime(data['Innings Date']).dt.year\n"
     ]
    }
   ],
   "source": [
    "data['year'] = pd.to_datetime(data['Innings Date']).dt.year"
   ]
  },
  {
   "cell_type": "code",
   "execution_count": 16,
   "id": "c7cf46c0",
   "metadata": {
    "scrolled": false
   },
   "outputs": [],
   "source": [
    "sachin_data = data[(data['year'] >=1994) & (data['year']<= 2004)]"
   ]
  },
  {
   "cell_type": "code",
   "execution_count": 17,
   "id": "fba2efa3",
   "metadata": {},
   "outputs": [],
   "source": [
    "virat_data = data[(data['year'] >=2009) & (data['year']<= 2019)]"
   ]
  },
  {
   "cell_type": "code",
   "execution_count": 18,
   "id": "a94d07a0",
   "metadata": {
    "scrolled": true
   },
   "outputs": [
    {
     "data": {
      "text/html": [
       "<div>\n",
       "<style scoped>\n",
       "    .dataframe tbody tr th:only-of-type {\n",
       "        vertical-align: middle;\n",
       "    }\n",
       "\n",
       "    .dataframe tbody tr th {\n",
       "        vertical-align: top;\n",
       "    }\n",
       "\n",
       "    .dataframe thead th {\n",
       "        text-align: right;\n",
       "    }\n",
       "</style>\n",
       "<table border=\"1\" class=\"dataframe\">\n",
       "  <thead>\n",
       "    <tr style=\"text-align: right;\">\n",
       "      <th></th>\n",
       "      <th>Innings Player</th>\n",
       "      <th>Innings Runs Scored</th>\n",
       "      <th>Innings Runs Scored Num</th>\n",
       "      <th>Innings Minutes Batted</th>\n",
       "      <th>Innings Batted Flag</th>\n",
       "      <th>Innings Not Out Flag</th>\n",
       "      <th>Innings Balls Faced</th>\n",
       "      <th>Innings Boundary Fours</th>\n",
       "      <th>Innings Boundary Sixes</th>\n",
       "      <th>Innings Batting Strike Rate</th>\n",
       "      <th>...</th>\n",
       "      <th>Innings Bowled Flag</th>\n",
       "      <th>Innings Maidens Bowled</th>\n",
       "      <th>Innings Runs Conceded</th>\n",
       "      <th>Innings Wickets Taken</th>\n",
       "      <th>4 Wickets</th>\n",
       "      <th>5 Wickets</th>\n",
       "      <th>10 Wickets</th>\n",
       "      <th>Innings Wickets Taken Buckets</th>\n",
       "      <th>Innings Economy Rate</th>\n",
       "      <th>year</th>\n",
       "    </tr>\n",
       "  </thead>\n",
       "  <tbody>\n",
       "    <tr>\n",
       "      <th>77610</th>\n",
       "      <td>V Sehwag</td>\n",
       "      <td>70</td>\n",
       "      <td>70</td>\n",
       "      <td>85</td>\n",
       "      <td>1.0</td>\n",
       "      <td>0.0</td>\n",
       "      <td>52</td>\n",
       "      <td>9</td>\n",
       "      <td>2</td>\n",
       "      <td>134.61</td>\n",
       "      <td>...</td>\n",
       "      <td>NaN</td>\n",
       "      <td>NaN</td>\n",
       "      <td>NaN</td>\n",
       "      <td>NaN</td>\n",
       "      <td>NaN</td>\n",
       "      <td>NaN</td>\n",
       "      <td>NaN</td>\n",
       "      <td>NaN</td>\n",
       "      <td>NaN</td>\n",
       "      <td>2004</td>\n",
       "    </tr>\n",
       "    <tr>\n",
       "      <th>77611</th>\n",
       "      <td>Yuvraj Singh</td>\n",
       "      <td>69</td>\n",
       "      <td>69</td>\n",
       "      <td>34</td>\n",
       "      <td>1.0</td>\n",
       "      <td>0.0</td>\n",
       "      <td>32</td>\n",
       "      <td>8</td>\n",
       "      <td>3</td>\n",
       "      <td>215.62</td>\n",
       "      <td>...</td>\n",
       "      <td>NaN</td>\n",
       "      <td>NaN</td>\n",
       "      <td>NaN</td>\n",
       "      <td>NaN</td>\n",
       "      <td>NaN</td>\n",
       "      <td>NaN</td>\n",
       "      <td>NaN</td>\n",
       "      <td>NaN</td>\n",
       "      <td>NaN</td>\n",
       "      <td>2004</td>\n",
       "    </tr>\n",
       "    <tr>\n",
       "      <th>77612</th>\n",
       "      <td>R Dravid</td>\n",
       "      <td>60</td>\n",
       "      <td>60</td>\n",
       "      <td>87</td>\n",
       "      <td>1.0</td>\n",
       "      <td>0.0</td>\n",
       "      <td>68</td>\n",
       "      <td>5</td>\n",
       "      <td>0</td>\n",
       "      <td>88.23</td>\n",
       "      <td>...</td>\n",
       "      <td>NaN</td>\n",
       "      <td>NaN</td>\n",
       "      <td>NaN</td>\n",
       "      <td>NaN</td>\n",
       "      <td>NaN</td>\n",
       "      <td>NaN</td>\n",
       "      <td>NaN</td>\n",
       "      <td>NaN</td>\n",
       "      <td>NaN</td>\n",
       "      <td>2004</td>\n",
       "    </tr>\n",
       "    <tr>\n",
       "      <th>77613</th>\n",
       "      <td>SC Ganguly</td>\n",
       "      <td>55</td>\n",
       "      <td>55</td>\n",
       "      <td>98</td>\n",
       "      <td>1.0</td>\n",
       "      <td>0.0</td>\n",
       "      <td>80</td>\n",
       "      <td>2</td>\n",
       "      <td>2</td>\n",
       "      <td>68.75</td>\n",
       "      <td>...</td>\n",
       "      <td>NaN</td>\n",
       "      <td>NaN</td>\n",
       "      <td>NaN</td>\n",
       "      <td>NaN</td>\n",
       "      <td>NaN</td>\n",
       "      <td>NaN</td>\n",
       "      <td>NaN</td>\n",
       "      <td>NaN</td>\n",
       "      <td>NaN</td>\n",
       "      <td>2004</td>\n",
       "    </tr>\n",
       "    <tr>\n",
       "      <th>77614</th>\n",
       "      <td>SR Tendulkar</td>\n",
       "      <td>47</td>\n",
       "      <td>47</td>\n",
       "      <td>60</td>\n",
       "      <td>1.0</td>\n",
       "      <td>0.0</td>\n",
       "      <td>42</td>\n",
       "      <td>9</td>\n",
       "      <td>0</td>\n",
       "      <td>111.9</td>\n",
       "      <td>...</td>\n",
       "      <td>NaN</td>\n",
       "      <td>NaN</td>\n",
       "      <td>NaN</td>\n",
       "      <td>NaN</td>\n",
       "      <td>NaN</td>\n",
       "      <td>NaN</td>\n",
       "      <td>NaN</td>\n",
       "      <td>NaN</td>\n",
       "      <td>NaN</td>\n",
       "      <td>2004</td>\n",
       "    </tr>\n",
       "  </tbody>\n",
       "</table>\n",
       "<p>5 rows × 29 columns</p>\n",
       "</div>"
      ],
      "text/plain": [
       "      Innings Player Innings Runs Scored  Innings Runs Scored Num  \\\n",
       "77610       V Sehwag                  70                       70   \n",
       "77611   Yuvraj Singh                  69                       69   \n",
       "77612       R Dravid                  60                       60   \n",
       "77613     SC Ganguly                  55                       55   \n",
       "77614   SR Tendulkar                  47                       47   \n",
       "\n",
       "      Innings Minutes Batted  Innings Batted Flag  Innings Not Out Flag  \\\n",
       "77610                     85                  1.0                   0.0   \n",
       "77611                     34                  1.0                   0.0   \n",
       "77612                     87                  1.0                   0.0   \n",
       "77613                     98                  1.0                   0.0   \n",
       "77614                     60                  1.0                   0.0   \n",
       "\n",
       "       Innings Balls Faced Innings Boundary Fours Innings Boundary Sixes  \\\n",
       "77610                   52                      9                      2   \n",
       "77611                   32                      8                      3   \n",
       "77612                   68                      5                      0   \n",
       "77613                   80                      2                      2   \n",
       "77614                   42                      9                      0   \n",
       "\n",
       "      Innings Batting Strike Rate  ... Innings Bowled Flag  \\\n",
       "77610                      134.61  ...                 NaN   \n",
       "77611                      215.62  ...                 NaN   \n",
       "77612                       88.23  ...                 NaN   \n",
       "77613                       68.75  ...                 NaN   \n",
       "77614                       111.9  ...                 NaN   \n",
       "\n",
       "      Innings Maidens Bowled Innings Runs Conceded Innings Wickets Taken  \\\n",
       "77610                    NaN                   NaN                   NaN   \n",
       "77611                    NaN                   NaN                   NaN   \n",
       "77612                    NaN                   NaN                   NaN   \n",
       "77613                    NaN                   NaN                   NaN   \n",
       "77614                    NaN                   NaN                   NaN   \n",
       "\n",
       "      4 Wickets  5 Wickets  10 Wickets Innings Wickets Taken Buckets  \\\n",
       "77610       NaN        NaN         NaN                           NaN   \n",
       "77611       NaN        NaN         NaN                           NaN   \n",
       "77612       NaN        NaN         NaN                           NaN   \n",
       "77613       NaN        NaN         NaN                           NaN   \n",
       "77614       NaN        NaN         NaN                           NaN   \n",
       "\n",
       "      Innings Economy Rate  year  \n",
       "77610                  NaN  2004  \n",
       "77611                  NaN  2004  \n",
       "77612                  NaN  2004  \n",
       "77613                  NaN  2004  \n",
       "77614                  NaN  2004  \n",
       "\n",
       "[5 rows x 29 columns]"
      ]
     },
     "execution_count": 18,
     "metadata": {},
     "output_type": "execute_result"
    }
   ],
   "source": [
    "sachin_data.head()"
   ]
  },
  {
   "cell_type": "code",
   "execution_count": 19,
   "id": "cdad3254",
   "metadata": {
    "scrolled": true
   },
   "outputs": [
    {
     "data": {
      "text/html": [
       "<div>\n",
       "<style scoped>\n",
       "    .dataframe tbody tr th:only-of-type {\n",
       "        vertical-align: middle;\n",
       "    }\n",
       "\n",
       "    .dataframe tbody tr th {\n",
       "        vertical-align: top;\n",
       "    }\n",
       "\n",
       "    .dataframe thead th {\n",
       "        text-align: right;\n",
       "    }\n",
       "</style>\n",
       "<table border=\"1\" class=\"dataframe\">\n",
       "  <thead>\n",
       "    <tr style=\"text-align: right;\">\n",
       "      <th></th>\n",
       "      <th>Innings Player</th>\n",
       "      <th>Innings Runs Scored</th>\n",
       "      <th>Innings Runs Scored Num</th>\n",
       "      <th>Innings Minutes Batted</th>\n",
       "      <th>Innings Batted Flag</th>\n",
       "      <th>Innings Not Out Flag</th>\n",
       "      <th>Innings Balls Faced</th>\n",
       "      <th>Innings Boundary Fours</th>\n",
       "      <th>Innings Boundary Sixes</th>\n",
       "      <th>Innings Batting Strike Rate</th>\n",
       "      <th>...</th>\n",
       "      <th>Innings Bowled Flag</th>\n",
       "      <th>Innings Maidens Bowled</th>\n",
       "      <th>Innings Runs Conceded</th>\n",
       "      <th>Innings Wickets Taken</th>\n",
       "      <th>4 Wickets</th>\n",
       "      <th>5 Wickets</th>\n",
       "      <th>10 Wickets</th>\n",
       "      <th>Innings Wickets Taken Buckets</th>\n",
       "      <th>Innings Economy Rate</th>\n",
       "      <th>year</th>\n",
       "    </tr>\n",
       "  </thead>\n",
       "  <tbody>\n",
       "    <tr>\n",
       "      <th>0</th>\n",
       "      <td>E Lewis</td>\n",
       "      <td>65</td>\n",
       "      <td>65</td>\n",
       "      <td>128</td>\n",
       "      <td>1.0</td>\n",
       "      <td>0.0</td>\n",
       "      <td>80</td>\n",
       "      <td>8</td>\n",
       "      <td>1</td>\n",
       "      <td>81.25</td>\n",
       "      <td>...</td>\n",
       "      <td>NaN</td>\n",
       "      <td>NaN</td>\n",
       "      <td>NaN</td>\n",
       "      <td>NaN</td>\n",
       "      <td>NaN</td>\n",
       "      <td>NaN</td>\n",
       "      <td>NaN</td>\n",
       "      <td>NaN</td>\n",
       "      <td>NaN</td>\n",
       "      <td>2019</td>\n",
       "    </tr>\n",
       "    <tr>\n",
       "      <th>1</th>\n",
       "      <td>N Pooran</td>\n",
       "      <td>42</td>\n",
       "      <td>42</td>\n",
       "      <td>69</td>\n",
       "      <td>1.0</td>\n",
       "      <td>0.0</td>\n",
       "      <td>52</td>\n",
       "      <td>4</td>\n",
       "      <td>1</td>\n",
       "      <td>80.76</td>\n",
       "      <td>...</td>\n",
       "      <td>NaN</td>\n",
       "      <td>NaN</td>\n",
       "      <td>NaN</td>\n",
       "      <td>NaN</td>\n",
       "      <td>NaN</td>\n",
       "      <td>NaN</td>\n",
       "      <td>NaN</td>\n",
       "      <td>NaN</td>\n",
       "      <td>NaN</td>\n",
       "      <td>2019</td>\n",
       "    </tr>\n",
       "    <tr>\n",
       "      <th>2</th>\n",
       "      <td>SO Hetmyer</td>\n",
       "      <td>18</td>\n",
       "      <td>18</td>\n",
       "      <td>31</td>\n",
       "      <td>1.0</td>\n",
       "      <td>0.0</td>\n",
       "      <td>20</td>\n",
       "      <td>2</td>\n",
       "      <td>0</td>\n",
       "      <td>90</td>\n",
       "      <td>...</td>\n",
       "      <td>NaN</td>\n",
       "      <td>NaN</td>\n",
       "      <td>NaN</td>\n",
       "      <td>NaN</td>\n",
       "      <td>NaN</td>\n",
       "      <td>NaN</td>\n",
       "      <td>NaN</td>\n",
       "      <td>NaN</td>\n",
       "      <td>NaN</td>\n",
       "      <td>2019</td>\n",
       "    </tr>\n",
       "    <tr>\n",
       "      <th>3</th>\n",
       "      <td>RL Chase</td>\n",
       "      <td>18</td>\n",
       "      <td>18</td>\n",
       "      <td>34</td>\n",
       "      <td>1.0</td>\n",
       "      <td>0.0</td>\n",
       "      <td>23</td>\n",
       "      <td>0</td>\n",
       "      <td>0</td>\n",
       "      <td>78.26</td>\n",
       "      <td>...</td>\n",
       "      <td>NaN</td>\n",
       "      <td>NaN</td>\n",
       "      <td>NaN</td>\n",
       "      <td>NaN</td>\n",
       "      <td>NaN</td>\n",
       "      <td>NaN</td>\n",
       "      <td>NaN</td>\n",
       "      <td>NaN</td>\n",
       "      <td>NaN</td>\n",
       "      <td>2019</td>\n",
       "    </tr>\n",
       "    <tr>\n",
       "      <th>4</th>\n",
       "      <td>SS Cottrell</td>\n",
       "      <td>17</td>\n",
       "      <td>17</td>\n",
       "      <td>23</td>\n",
       "      <td>1.0</td>\n",
       "      <td>0.0</td>\n",
       "      <td>18</td>\n",
       "      <td>2</td>\n",
       "      <td>1</td>\n",
       "      <td>94.44</td>\n",
       "      <td>...</td>\n",
       "      <td>NaN</td>\n",
       "      <td>NaN</td>\n",
       "      <td>NaN</td>\n",
       "      <td>NaN</td>\n",
       "      <td>NaN</td>\n",
       "      <td>NaN</td>\n",
       "      <td>NaN</td>\n",
       "      <td>NaN</td>\n",
       "      <td>NaN</td>\n",
       "      <td>2019</td>\n",
       "    </tr>\n",
       "  </tbody>\n",
       "</table>\n",
       "<p>5 rows × 29 columns</p>\n",
       "</div>"
      ],
      "text/plain": [
       "  Innings Player Innings Runs Scored  Innings Runs Scored Num  \\\n",
       "0        E Lewis                  65                       65   \n",
       "1       N Pooran                  42                       42   \n",
       "2     SO Hetmyer                  18                       18   \n",
       "3       RL Chase                  18                       18   \n",
       "4    SS Cottrell                  17                       17   \n",
       "\n",
       "  Innings Minutes Batted  Innings Batted Flag  Innings Not Out Flag  \\\n",
       "0                    128                  1.0                   0.0   \n",
       "1                     69                  1.0                   0.0   \n",
       "2                     31                  1.0                   0.0   \n",
       "3                     34                  1.0                   0.0   \n",
       "4                     23                  1.0                   0.0   \n",
       "\n",
       "   Innings Balls Faced Innings Boundary Fours Innings Boundary Sixes  \\\n",
       "0                   80                      8                      1   \n",
       "1                   52                      4                      1   \n",
       "2                   20                      2                      0   \n",
       "3                   23                      0                      0   \n",
       "4                   18                      2                      1   \n",
       "\n",
       "  Innings Batting Strike Rate  ... Innings Bowled Flag Innings Maidens Bowled  \\\n",
       "0                       81.25  ...                 NaN                    NaN   \n",
       "1                       80.76  ...                 NaN                    NaN   \n",
       "2                          90  ...                 NaN                    NaN   \n",
       "3                       78.26  ...                 NaN                    NaN   \n",
       "4                       94.44  ...                 NaN                    NaN   \n",
       "\n",
       "  Innings Runs Conceded Innings Wickets Taken 4 Wickets  5 Wickets  \\\n",
       "0                   NaN                   NaN       NaN        NaN   \n",
       "1                   NaN                   NaN       NaN        NaN   \n",
       "2                   NaN                   NaN       NaN        NaN   \n",
       "3                   NaN                   NaN       NaN        NaN   \n",
       "4                   NaN                   NaN       NaN        NaN   \n",
       "\n",
       "   10 Wickets Innings Wickets Taken Buckets Innings Economy Rate  year  \n",
       "0         NaN                           NaN                  NaN  2019  \n",
       "1         NaN                           NaN                  NaN  2019  \n",
       "2         NaN                           NaN                  NaN  2019  \n",
       "3         NaN                           NaN                  NaN  2019  \n",
       "4         NaN                           NaN                  NaN  2019  \n",
       "\n",
       "[5 rows x 29 columns]"
      ]
     },
     "execution_count": 19,
     "metadata": {},
     "output_type": "execute_result"
    }
   ],
   "source": [
    "virat_data.head()"
   ]
  },
  {
   "cell_type": "markdown",
   "id": "5340c04e",
   "metadata": {},
   "source": [
    "# Parameters to check which one is a better player\n",
    "### - Runs per Innings \n",
    "        total runs scored by a player/ total innings he has played\n",
    "### - Strike Rate\n",
    "        (total runs scored by a player/total balls he has faced) x 100\n",
    "### - Number of 100's\n",
    "        total number of centuries\n",
    "### - Number of 50's\n",
    "        total numbber of fifties\n",
    "### - Team Contribution\n",
    "        (total runs scored by a player/ total runs scored by a team) X 100"
   ]
  },
  {
   "cell_type": "code",
   "execution_count": 20,
   "id": "161736d4",
   "metadata": {},
   "outputs": [],
   "source": [
    "sachin = sachin_data[sachin_data['Innings Player'] == 'SR Tendulkar']"
   ]
  },
  {
   "cell_type": "code",
   "execution_count": 21,
   "id": "3e860c30",
   "metadata": {},
   "outputs": [
    {
     "data": {
      "text/html": [
       "<div>\n",
       "<style scoped>\n",
       "    .dataframe tbody tr th:only-of-type {\n",
       "        vertical-align: middle;\n",
       "    }\n",
       "\n",
       "    .dataframe tbody tr th {\n",
       "        vertical-align: top;\n",
       "    }\n",
       "\n",
       "    .dataframe thead th {\n",
       "        text-align: right;\n",
       "    }\n",
       "</style>\n",
       "<table border=\"1\" class=\"dataframe\">\n",
       "  <thead>\n",
       "    <tr style=\"text-align: right;\">\n",
       "      <th></th>\n",
       "      <th>Innings Player</th>\n",
       "      <th>Innings Runs Scored</th>\n",
       "      <th>Innings Runs Scored Num</th>\n",
       "      <th>Innings Minutes Batted</th>\n",
       "      <th>Innings Batted Flag</th>\n",
       "      <th>Innings Not Out Flag</th>\n",
       "      <th>Innings Balls Faced</th>\n",
       "      <th>Innings Boundary Fours</th>\n",
       "      <th>Innings Boundary Sixes</th>\n",
       "      <th>Innings Batting Strike Rate</th>\n",
       "      <th>...</th>\n",
       "      <th>Innings Bowled Flag</th>\n",
       "      <th>Innings Maidens Bowled</th>\n",
       "      <th>Innings Runs Conceded</th>\n",
       "      <th>Innings Wickets Taken</th>\n",
       "      <th>4 Wickets</th>\n",
       "      <th>5 Wickets</th>\n",
       "      <th>10 Wickets</th>\n",
       "      <th>Innings Wickets Taken Buckets</th>\n",
       "      <th>Innings Economy Rate</th>\n",
       "      <th>year</th>\n",
       "    </tr>\n",
       "  </thead>\n",
       "  <tbody>\n",
       "    <tr>\n",
       "      <th>77614</th>\n",
       "      <td>SR Tendulkar</td>\n",
       "      <td>47</td>\n",
       "      <td>47</td>\n",
       "      <td>60</td>\n",
       "      <td>1.0</td>\n",
       "      <td>0.0</td>\n",
       "      <td>42</td>\n",
       "      <td>9</td>\n",
       "      <td>0</td>\n",
       "      <td>111.9</td>\n",
       "      <td>...</td>\n",
       "      <td>NaN</td>\n",
       "      <td>NaN</td>\n",
       "      <td>NaN</td>\n",
       "      <td>NaN</td>\n",
       "      <td>NaN</td>\n",
       "      <td>NaN</td>\n",
       "      <td>NaN</td>\n",
       "      <td>NaN</td>\n",
       "      <td>NaN</td>\n",
       "      <td>2004</td>\n",
       "    </tr>\n",
       "    <tr>\n",
       "      <th>77747</th>\n",
       "      <td>SR Tendulkar</td>\n",
       "      <td>19</td>\n",
       "      <td>19</td>\n",
       "      <td>46</td>\n",
       "      <td>1.0</td>\n",
       "      <td>0.0</td>\n",
       "      <td>32</td>\n",
       "      <td>3</td>\n",
       "      <td>0</td>\n",
       "      <td>59.37</td>\n",
       "      <td>...</td>\n",
       "      <td>NaN</td>\n",
       "      <td>NaN</td>\n",
       "      <td>NaN</td>\n",
       "      <td>NaN</td>\n",
       "      <td>NaN</td>\n",
       "      <td>NaN</td>\n",
       "      <td>NaN</td>\n",
       "      <td>NaN</td>\n",
       "      <td>NaN</td>\n",
       "      <td>2004</td>\n",
       "    </tr>\n",
       "    <tr>\n",
       "      <th>78054</th>\n",
       "      <td>SR Tendulkar</td>\n",
       "      <td>16</td>\n",
       "      <td>16</td>\n",
       "      <td>30</td>\n",
       "      <td>1.0</td>\n",
       "      <td>0.0</td>\n",
       "      <td>17</td>\n",
       "      <td>2</td>\n",
       "      <td>0</td>\n",
       "      <td>94.11</td>\n",
       "      <td>...</td>\n",
       "      <td>NaN</td>\n",
       "      <td>NaN</td>\n",
       "      <td>NaN</td>\n",
       "      <td>NaN</td>\n",
       "      <td>NaN</td>\n",
       "      <td>NaN</td>\n",
       "      <td>NaN</td>\n",
       "      <td>NaN</td>\n",
       "      <td>NaN</td>\n",
       "      <td>2004</td>\n",
       "    </tr>\n",
       "    <tr>\n",
       "      <th>79590</th>\n",
       "      <td>SR Tendulkar</td>\n",
       "      <td>74</td>\n",
       "      <td>74</td>\n",
       "      <td>170</td>\n",
       "      <td>1.0</td>\n",
       "      <td>0.0</td>\n",
       "      <td>100</td>\n",
       "      <td>7</td>\n",
       "      <td>1</td>\n",
       "      <td>74</td>\n",
       "      <td>...</td>\n",
       "      <td>NaN</td>\n",
       "      <td>NaN</td>\n",
       "      <td>NaN</td>\n",
       "      <td>NaN</td>\n",
       "      <td>NaN</td>\n",
       "      <td>NaN</td>\n",
       "      <td>NaN</td>\n",
       "      <td>NaN</td>\n",
       "      <td>NaN</td>\n",
       "      <td>2004</td>\n",
       "    </tr>\n",
       "    <tr>\n",
       "      <th>79681</th>\n",
       "      <td>SR Tendulkar</td>\n",
       "      <td>18</td>\n",
       "      <td>18</td>\n",
       "      <td>30</td>\n",
       "      <td>1.0</td>\n",
       "      <td>0.0</td>\n",
       "      <td>21</td>\n",
       "      <td>3</td>\n",
       "      <td>0</td>\n",
       "      <td>85.71</td>\n",
       "      <td>...</td>\n",
       "      <td>NaN</td>\n",
       "      <td>NaN</td>\n",
       "      <td>NaN</td>\n",
       "      <td>NaN</td>\n",
       "      <td>NaN</td>\n",
       "      <td>NaN</td>\n",
       "      <td>NaN</td>\n",
       "      <td>NaN</td>\n",
       "      <td>NaN</td>\n",
       "      <td>2004</td>\n",
       "    </tr>\n",
       "  </tbody>\n",
       "</table>\n",
       "<p>5 rows × 29 columns</p>\n",
       "</div>"
      ],
      "text/plain": [
       "      Innings Player Innings Runs Scored  Innings Runs Scored Num  \\\n",
       "77614   SR Tendulkar                  47                       47   \n",
       "77747   SR Tendulkar                  19                       19   \n",
       "78054   SR Tendulkar                  16                       16   \n",
       "79590   SR Tendulkar                  74                       74   \n",
       "79681   SR Tendulkar                  18                       18   \n",
       "\n",
       "      Innings Minutes Batted  Innings Batted Flag  Innings Not Out Flag  \\\n",
       "77614                     60                  1.0                   0.0   \n",
       "77747                     46                  1.0                   0.0   \n",
       "78054                     30                  1.0                   0.0   \n",
       "79590                    170                  1.0                   0.0   \n",
       "79681                     30                  1.0                   0.0   \n",
       "\n",
       "       Innings Balls Faced Innings Boundary Fours Innings Boundary Sixes  \\\n",
       "77614                   42                      9                      0   \n",
       "77747                   32                      3                      0   \n",
       "78054                   17                      2                      0   \n",
       "79590                  100                      7                      1   \n",
       "79681                   21                      3                      0   \n",
       "\n",
       "      Innings Batting Strike Rate  ... Innings Bowled Flag  \\\n",
       "77614                       111.9  ...                 NaN   \n",
       "77747                       59.37  ...                 NaN   \n",
       "78054                       94.11  ...                 NaN   \n",
       "79590                          74  ...                 NaN   \n",
       "79681                       85.71  ...                 NaN   \n",
       "\n",
       "      Innings Maidens Bowled Innings Runs Conceded Innings Wickets Taken  \\\n",
       "77614                    NaN                   NaN                   NaN   \n",
       "77747                    NaN                   NaN                   NaN   \n",
       "78054                    NaN                   NaN                   NaN   \n",
       "79590                    NaN                   NaN                   NaN   \n",
       "79681                    NaN                   NaN                   NaN   \n",
       "\n",
       "      4 Wickets  5 Wickets  10 Wickets Innings Wickets Taken Buckets  \\\n",
       "77614       NaN        NaN         NaN                           NaN   \n",
       "77747       NaN        NaN         NaN                           NaN   \n",
       "78054       NaN        NaN         NaN                           NaN   \n",
       "79590       NaN        NaN         NaN                           NaN   \n",
       "79681       NaN        NaN         NaN                           NaN   \n",
       "\n",
       "      Innings Economy Rate  year  \n",
       "77614                  NaN  2004  \n",
       "77747                  NaN  2004  \n",
       "78054                  NaN  2004  \n",
       "79590                  NaN  2004  \n",
       "79681                  NaN  2004  \n",
       "\n",
       "[5 rows x 29 columns]"
      ]
     },
     "execution_count": 21,
     "metadata": {},
     "output_type": "execute_result"
    }
   ],
   "source": [
    "sachin.head()"
   ]
  },
  {
   "cell_type": "code",
   "execution_count": 22,
   "id": "a454b7b9",
   "metadata": {},
   "outputs": [
    {
     "data": {
      "text/plain": [
       "11818"
      ]
     },
     "execution_count": 22,
     "metadata": {},
     "output_type": "execute_result"
    }
   ],
   "source": [
    "#total runs scored by Sachin\n",
    "\n",
    "sum(sachin['Innings Runs Scored Num'])"
   ]
  },
  {
   "cell_type": "code",
   "execution_count": 23,
   "id": "f423b455",
   "metadata": {},
   "outputs": [
    {
     "name": "stdout",
     "output_type": "stream",
     "text": [
      "43.608856088560884\n"
     ]
    }
   ],
   "source": [
    "#Runs per Innings\n",
    "\n",
    "RPI_Sachin = sum(sachin['Innings Runs Scored Num'])/len(sachin)\n",
    "print(RPI_Sachin)"
   ]
  },
  {
   "cell_type": "code",
   "execution_count": 24,
   "id": "8a90aac7",
   "metadata": {},
   "outputs": [
    {
     "name": "stdout",
     "output_type": "stream",
     "text": [
      "88.21377920429947\n"
     ]
    }
   ],
   "source": [
    "#Strike Rate\n",
    "\n",
    "Strike_rate_Sachin = sum(sachin['Innings Runs Scored Num'])/sum(sachin['Innings Balls Faced'])*100\n",
    "print(Strike_rate_Sachin)"
   ]
  },
  {
   "cell_type": "code",
   "execution_count": 25,
   "id": "622f94e8",
   "metadata": {},
   "outputs": [
    {
     "name": "stdout",
     "output_type": "stream",
     "text": [
      "37.0\n"
     ]
    }
   ],
   "source": [
    "#No. of 100s\n",
    "\n",
    "Hundred_sachin = sum(sachin['100\\'s'])\n",
    "print(Hundred_sachin)"
   ]
  },
  {
   "cell_type": "code",
   "execution_count": 26,
   "id": "d5050a5c",
   "metadata": {},
   "outputs": [
    {
     "name": "stdout",
     "output_type": "stream",
     "text": [
      "57.0\n"
     ]
    }
   ],
   "source": [
    "#No of 50s\n",
    "\n",
    "fifty_sachin = sum(sachin['50\\'s'])\n",
    "print(fifty_sachin)"
   ]
  },
  {
   "cell_type": "code",
   "execution_count": 27,
   "id": "68634f45",
   "metadata": {},
   "outputs": [
    {
     "name": "stdout",
     "output_type": "stream",
     "text": [
      "16.951875493078962%\n"
     ]
    }
   ],
   "source": [
    "#Team Contribution\n",
    "\n",
    "TC_Sachin = sum(sachin['Innings Runs Scored Num'])/sum(sachin_data[sachin_data['Country']=='India']['Innings Runs Scored Num']) * 100\n",
    "print(\"{}%\".format(TC_Sachin))"
   ]
  },
  {
   "cell_type": "code",
   "execution_count": 28,
   "id": "78f5a204",
   "metadata": {},
   "outputs": [],
   "source": [
    "virat = virat_data[virat_data['Innings Player']=='V Kohli']"
   ]
  },
  {
   "cell_type": "code",
   "execution_count": 29,
   "id": "6308bca0",
   "metadata": {},
   "outputs": [
    {
     "data": {
      "text/html": [
       "<div>\n",
       "<style scoped>\n",
       "    .dataframe tbody tr th:only-of-type {\n",
       "        vertical-align: middle;\n",
       "    }\n",
       "\n",
       "    .dataframe tbody tr th {\n",
       "        vertical-align: top;\n",
       "    }\n",
       "\n",
       "    .dataframe thead th {\n",
       "        text-align: right;\n",
       "    }\n",
       "</style>\n",
       "<table border=\"1\" class=\"dataframe\">\n",
       "  <thead>\n",
       "    <tr style=\"text-align: right;\">\n",
       "      <th></th>\n",
       "      <th>Innings Player</th>\n",
       "      <th>Innings Runs Scored</th>\n",
       "      <th>Innings Runs Scored Num</th>\n",
       "      <th>Innings Minutes Batted</th>\n",
       "      <th>Innings Batted Flag</th>\n",
       "      <th>Innings Not Out Flag</th>\n",
       "      <th>Innings Balls Faced</th>\n",
       "      <th>Innings Boundary Fours</th>\n",
       "      <th>Innings Boundary Sixes</th>\n",
       "      <th>Innings Batting Strike Rate</th>\n",
       "      <th>...</th>\n",
       "      <th>Innings Bowled Flag</th>\n",
       "      <th>Innings Maidens Bowled</th>\n",
       "      <th>Innings Runs Conceded</th>\n",
       "      <th>Innings Wickets Taken</th>\n",
       "      <th>4 Wickets</th>\n",
       "      <th>5 Wickets</th>\n",
       "      <th>10 Wickets</th>\n",
       "      <th>Innings Wickets Taken Buckets</th>\n",
       "      <th>Innings Economy Rate</th>\n",
       "      <th>year</th>\n",
       "    </tr>\n",
       "  </thead>\n",
       "  <tbody>\n",
       "    <tr>\n",
       "      <th>11</th>\n",
       "      <td>V Kohli</td>\n",
       "      <td>120</td>\n",
       "      <td>120</td>\n",
       "      <td>179</td>\n",
       "      <td>1.0</td>\n",
       "      <td>0.0</td>\n",
       "      <td>125</td>\n",
       "      <td>14</td>\n",
       "      <td>1</td>\n",
       "      <td>96</td>\n",
       "      <td>...</td>\n",
       "      <td>NaN</td>\n",
       "      <td>NaN</td>\n",
       "      <td>NaN</td>\n",
       "      <td>NaN</td>\n",
       "      <td>NaN</td>\n",
       "      <td>NaN</td>\n",
       "      <td>NaN</td>\n",
       "      <td>NaN</td>\n",
       "      <td>NaN</td>\n",
       "      <td>2019</td>\n",
       "    </tr>\n",
       "    <tr>\n",
       "      <th>327</th>\n",
       "      <td>V Kohli</td>\n",
       "      <td>1</td>\n",
       "      <td>1</td>\n",
       "      <td>8</td>\n",
       "      <td>1.0</td>\n",
       "      <td>0.0</td>\n",
       "      <td>6</td>\n",
       "      <td>0</td>\n",
       "      <td>0</td>\n",
       "      <td>16.66</td>\n",
       "      <td>...</td>\n",
       "      <td>NaN</td>\n",
       "      <td>NaN</td>\n",
       "      <td>NaN</td>\n",
       "      <td>NaN</td>\n",
       "      <td>NaN</td>\n",
       "      <td>NaN</td>\n",
       "      <td>NaN</td>\n",
       "      <td>NaN</td>\n",
       "      <td>NaN</td>\n",
       "      <td>2019</td>\n",
       "    </tr>\n",
       "    <tr>\n",
       "      <th>420</th>\n",
       "      <td>V Kohli</td>\n",
       "      <td>34*</td>\n",
       "      <td>34</td>\n",
       "      <td>61</td>\n",
       "      <td>1.0</td>\n",
       "      <td>1.0</td>\n",
       "      <td>41</td>\n",
       "      <td>3</td>\n",
       "      <td>0</td>\n",
       "      <td>82.92</td>\n",
       "      <td>...</td>\n",
       "      <td>NaN</td>\n",
       "      <td>NaN</td>\n",
       "      <td>NaN</td>\n",
       "      <td>NaN</td>\n",
       "      <td>NaN</td>\n",
       "      <td>NaN</td>\n",
       "      <td>NaN</td>\n",
       "      <td>NaN</td>\n",
       "      <td>NaN</td>\n",
       "      <td>2019</td>\n",
       "    </tr>\n",
       "    <tr>\n",
       "      <th>664</th>\n",
       "      <td>V Kohli</td>\n",
       "      <td>26</td>\n",
       "      <td>26</td>\n",
       "      <td>45</td>\n",
       "      <td>1.0</td>\n",
       "      <td>0.0</td>\n",
       "      <td>27</td>\n",
       "      <td>3</td>\n",
       "      <td>0</td>\n",
       "      <td>96.29</td>\n",
       "      <td>...</td>\n",
       "      <td>NaN</td>\n",
       "      <td>NaN</td>\n",
       "      <td>NaN</td>\n",
       "      <td>NaN</td>\n",
       "      <td>NaN</td>\n",
       "      <td>NaN</td>\n",
       "      <td>NaN</td>\n",
       "      <td>NaN</td>\n",
       "      <td>NaN</td>\n",
       "      <td>2019</td>\n",
       "    </tr>\n",
       "    <tr>\n",
       "      <th>804</th>\n",
       "      <td>V Kohli</td>\n",
       "      <td>66</td>\n",
       "      <td>66</td>\n",
       "      <td>103</td>\n",
       "      <td>1.0</td>\n",
       "      <td>0.0</td>\n",
       "      <td>76</td>\n",
       "      <td>7</td>\n",
       "      <td>0</td>\n",
       "      <td>86.84</td>\n",
       "      <td>...</td>\n",
       "      <td>NaN</td>\n",
       "      <td>NaN</td>\n",
       "      <td>NaN</td>\n",
       "      <td>NaN</td>\n",
       "      <td>NaN</td>\n",
       "      <td>NaN</td>\n",
       "      <td>NaN</td>\n",
       "      <td>NaN</td>\n",
       "      <td>NaN</td>\n",
       "      <td>2019</td>\n",
       "    </tr>\n",
       "  </tbody>\n",
       "</table>\n",
       "<p>5 rows × 29 columns</p>\n",
       "</div>"
      ],
      "text/plain": [
       "    Innings Player Innings Runs Scored  Innings Runs Scored Num  \\\n",
       "11         V Kohli                 120                      120   \n",
       "327        V Kohli                   1                        1   \n",
       "420        V Kohli                 34*                       34   \n",
       "664        V Kohli                  26                       26   \n",
       "804        V Kohli                  66                       66   \n",
       "\n",
       "    Innings Minutes Batted  Innings Batted Flag  Innings Not Out Flag  \\\n",
       "11                     179                  1.0                   0.0   \n",
       "327                      8                  1.0                   0.0   \n",
       "420                     61                  1.0                   1.0   \n",
       "664                     45                  1.0                   0.0   \n",
       "804                    103                  1.0                   0.0   \n",
       "\n",
       "     Innings Balls Faced Innings Boundary Fours Innings Boundary Sixes  \\\n",
       "11                   125                     14                      1   \n",
       "327                    6                      0                      0   \n",
       "420                   41                      3                      0   \n",
       "664                   27                      3                      0   \n",
       "804                   76                      7                      0   \n",
       "\n",
       "    Innings Batting Strike Rate  ... Innings Bowled Flag  \\\n",
       "11                           96  ...                 NaN   \n",
       "327                       16.66  ...                 NaN   \n",
       "420                       82.92  ...                 NaN   \n",
       "664                       96.29  ...                 NaN   \n",
       "804                       86.84  ...                 NaN   \n",
       "\n",
       "    Innings Maidens Bowled Innings Runs Conceded Innings Wickets Taken  \\\n",
       "11                     NaN                   NaN                   NaN   \n",
       "327                    NaN                   NaN                   NaN   \n",
       "420                    NaN                   NaN                   NaN   \n",
       "664                    NaN                   NaN                   NaN   \n",
       "804                    NaN                   NaN                   NaN   \n",
       "\n",
       "    4 Wickets  5 Wickets  10 Wickets Innings Wickets Taken Buckets  \\\n",
       "11        NaN        NaN         NaN                           NaN   \n",
       "327       NaN        NaN         NaN                           NaN   \n",
       "420       NaN        NaN         NaN                           NaN   \n",
       "664       NaN        NaN         NaN                           NaN   \n",
       "804       NaN        NaN         NaN                           NaN   \n",
       "\n",
       "    Innings Economy Rate  year  \n",
       "11                   NaN  2019  \n",
       "327                  NaN  2019  \n",
       "420                  NaN  2019  \n",
       "664                  NaN  2019  \n",
       "804                  NaN  2019  \n",
       "\n",
       "[5 rows x 29 columns]"
      ]
     },
     "execution_count": 29,
     "metadata": {},
     "output_type": "execute_result"
    }
   ],
   "source": [
    "virat.head()"
   ]
  },
  {
   "cell_type": "code",
   "execution_count": 30,
   "id": "e01d0106",
   "metadata": {},
   "outputs": [
    {
     "data": {
      "text/plain": [
       "11247"
      ]
     },
     "execution_count": 30,
     "metadata": {},
     "output_type": "execute_result"
    }
   ],
   "source": [
    "#total runs scored by Virat\n",
    "\n",
    "sum(virat['Innings Runs Scored Num'])"
   ]
  },
  {
   "cell_type": "code",
   "execution_count": 31,
   "id": "83a83625",
   "metadata": {},
   "outputs": [
    {
     "name": "stdout",
     "output_type": "stream",
     "text": [
      "50.20982142857143\n"
     ]
    }
   ],
   "source": [
    "#Runs per Innings\n",
    "\n",
    "RPI_Virat = sum(virat['Innings Runs Scored Num'])/len(virat['Innings Runs Scored Num'])\n",
    "print(RPI_Virat)"
   ]
  },
  {
   "cell_type": "code",
   "execution_count": 32,
   "id": "077ee40c",
   "metadata": {},
   "outputs": [
    {
     "data": {
      "text/plain": [
       "93.56126778138258"
      ]
     },
     "execution_count": 32,
     "metadata": {},
     "output_type": "execute_result"
    }
   ],
   "source": [
    "#Strike Rate\n",
    "\n",
    "Strike_rate_Virat = sum(virat['Innings Runs Scored Num'])/sum(virat['Innings Balls Faced']) * 100\n",
    "Strike_rate_Virat"
   ]
  },
  {
   "cell_type": "code",
   "execution_count": 33,
   "id": "40dd0f86",
   "metadata": {},
   "outputs": [
    {
     "name": "stdout",
     "output_type": "stream",
     "text": [
      "42.0\n"
     ]
    }
   ],
   "source": [
    "#No. of 100s\n",
    "\n",
    "Hundred_virat = sum(virat['100\\'s'])\n",
    "print(Hundred_virat)"
   ]
  },
  {
   "cell_type": "code",
   "execution_count": 34,
   "id": "fff5e73f",
   "metadata": {},
   "outputs": [
    {
     "name": "stdout",
     "output_type": "stream",
     "text": [
      "53.0\n"
     ]
    }
   ],
   "source": [
    "#No of 50s\n",
    "\n",
    "fifty_virat = sum(virat['50\\'s'])\n",
    "print(fifty_virat)"
   ]
  },
  {
   "cell_type": "code",
   "execution_count": 35,
   "id": "ef8d8c8a",
   "metadata": {},
   "outputs": [
    {
     "name": "stdout",
     "output_type": "stream",
     "text": [
      "17.610033350556627%\n"
     ]
    }
   ],
   "source": [
    "#Team Contribution\n",
    "\n",
    "TC_Virat = sum(virat['Innings Runs Scored Num'])/sum(virat_data[virat_data['Country']=='India']['Innings Runs Scored Num']) * 100\n",
    "print(\"{}%\".format(TC_Virat))"
   ]
  },
  {
   "cell_type": "markdown",
   "id": "07a3d081",
   "metadata": {},
   "source": [
    "# Data Visualization"
   ]
  },
  {
   "cell_type": "code",
   "execution_count": 36,
   "id": "12ccdab7",
   "metadata": {},
   "outputs": [
    {
     "data": {
      "text/plain": [
       "Innings Player\n",
       "SR Tendulkar      11818\n",
       "SC Ganguly         9911\n",
       "ST Jayasuriya      9297\n",
       "Inzamam-ul-Haq     8561\n",
       "R Dravid           7751\n",
       "RT Ponting         7422\n",
       "Saeed Anwar        7320\n",
       "JH Kallis          7267\n",
       "MS Atapattu        7253\n",
       "MG Bevan           6912\n",
       "Name: Innings Runs Scored Num, dtype: int32"
      ]
     },
     "execution_count": 36,
     "metadata": {},
     "output_type": "execute_result"
    }
   ],
   "source": [
    "# During 1994-2004 the batsman with most runs \n",
    "\n",
    "sachin_data.groupby(['Innings Player'])['Innings Runs Scored Num'].sum().sort_values(ascending=False).head(10)"
   ]
  },
  {
   "cell_type": "code",
   "execution_count": 37,
   "id": "e7c2bdd2",
   "metadata": {},
   "outputs": [
    {
     "data": {
      "image/png": "[encoded data removed]",
      "text/plain": [
       "<Figure size 640x480 with 1 Axes>"
      ]
     },
     "metadata": {},
     "output_type": "display_data"
    }
   ],
   "source": [
    "sachin_data.groupby(['Innings Player'])['Innings Runs Scored Num'].sum().sort_values(ascending=False).head(10).plot(kind='barh')\n",
    "plt.show()"
   ]
  },
  {
   "cell_type": "code",
   "execution_count": 38,
   "id": "e75839db",
   "metadata": {},
   "outputs": [
    {
     "data": {
      "text/plain": [
       "Innings Player\n",
       "V Kohli           11247\n",
       "RG Sharma          8083\n",
       "HM Amla            7745\n",
       "TM Dilshan         7296\n",
       "KC Sangakkara      7275\n",
       "AB de Villiers     7247\n",
       "LRPL Taylor        7059\n",
       "MS Dhoni           6838\n",
       "EJG Morgan         6748\n",
       "MJ Guptill         6626\n",
       "Name: Innings Runs Scored Num, dtype: int32"
      ]
     },
     "execution_count": 38,
     "metadata": {},
     "output_type": "execute_result"
    }
   ],
   "source": [
    "#During 2009-2019 the batsman with most runs \n",
    "\n",
    "virat_data.groupby(['Innings Player'])['Innings Runs Scored Num'].sum().sort_values(ascending=False).head(10)"
   ]
  },
  {
   "cell_type": "code",
   "execution_count": 39,
   "id": "a1193bbd",
   "metadata": {},
   "outputs": [
    {
     "data": {
      "image/png": "[encoded data removed]",
      "text/plain": [
       "<Figure size 640x480 with 1 Axes>"
      ]
     },
     "metadata": {},
     "output_type": "display_data"
    }
   ],
   "source": [
    "virat_data.groupby(['Innings Player'])['Innings Runs Scored Num'].sum().sort_values(ascending=False).head(10).plot(kind='barh')\n",
    "plt.show()"
   ]
  },
  {
   "cell_type": "code",
   "execution_count": 40,
   "id": "e60ad612",
   "metadata": {},
   "outputs": [
    {
     "data": {
      "image/png": "[encoded data removed]",
      "text/plain": [
       "<Figure size 640x480 with 1 Axes>"
      ]
     },
     "metadata": {},
     "output_type": "display_data"
    }
   ],
   "source": [
    "# Year wise Kohli's performance analysis\n",
    "\n",
    "virat.groupby(['year'])['Innings Runs Scored Num'].sum().plot(kind = 'bar')\n",
    "plt.show()"
   ]
  },
  {
   "cell_type": "code",
   "execution_count": 41,
   "id": "3a18eb11",
   "metadata": {},
   "outputs": [
    {
     "data": {
      "image/png": "[encoded data removed]",
      "text/plain": [
       "<Figure size 640x480 with 1 Axes>"
      ]
     },
     "metadata": {},
     "output_type": "display_data"
    }
   ],
   "source": [
    "# Year wise Sachin's performance analysis\n",
    "\n",
    "sachin.groupby(['year'])['Innings Runs Scored Num'].sum().plot(kind = 'bar')\n",
    "plt.show()"
   ]
  },
  {
   "cell_type": "markdown",
   "id": "897f48cf",
   "metadata": {},
   "source": [
    "# Data Normalization"
   ]
  },
  {
   "cell_type": "code",
   "execution_count": 42,
   "id": "d922f67c",
   "metadata": {},
   "outputs": [],
   "source": [
    "non_virat_data = virat_data[virat_data['Innings Player'] != 'V Kohli']"
   ]
  },
  {
   "cell_type": "code",
   "execution_count": 43,
   "id": "6d29cac2",
   "metadata": {},
   "outputs": [
    {
     "data": {
      "text/plain": [
       "24.737756786500366"
      ]
     },
     "execution_count": 43,
     "metadata": {},
     "output_type": "execute_result"
    }
   ],
   "source": [
    "sum(non_virat_data['Innings Runs Scored Num'])/len(non_virat_data)"
   ]
  },
  {
   "cell_type": "code",
   "execution_count": 44,
   "id": "0a587056",
   "metadata": {},
   "outputs": [
    {
     "data": {
      "text/plain": [
       "50.20982142857143"
      ]
     },
     "execution_count": 44,
     "metadata": {},
     "output_type": "execute_result"
    }
   ],
   "source": [
    "RPI_Virat"
   ]
  },
  {
   "cell_type": "code",
   "execution_count": 45,
   "id": "0dd724d1",
   "metadata": {},
   "outputs": [
    {
     "name": "stdout",
     "output_type": "stream",
     "text": [
      "2.029683688052565\n"
     ]
    }
   ],
   "source": [
    "#Comparison of RPI of other players with Virat Kolhi on that time period \n",
    "\n",
    "com_RPI_virat = RPI_Virat/(sum(non_virat_data['Innings Runs Scored Num'])/len(non_virat_data))\n",
    "print(com_RPI_virat)"
   ]
  },
  {
   "cell_type": "code",
   "execution_count": 46,
   "id": "d90201c3",
   "metadata": {},
   "outputs": [],
   "source": [
    "non_sachin_data = sachin_data[sachin_data['Innings Player'] != 'SR Tendulkar']"
   ]
  },
  {
   "cell_type": "code",
   "execution_count": 47,
   "id": "a38fc74d",
   "metadata": {},
   "outputs": [
    {
     "data": {
      "text/plain": [
       "22.43512946754194"
      ]
     },
     "execution_count": 47,
     "metadata": {},
     "output_type": "execute_result"
    }
   ],
   "source": [
    "sum(non_sachin_data['Innings Runs Scored Num'])/len(non_sachin_data)"
   ]
  },
  {
   "cell_type": "code",
   "execution_count": 48,
   "id": "124841cc",
   "metadata": {},
   "outputs": [
    {
     "name": "stdout",
     "output_type": "stream",
     "text": [
      "1.9437755485945407\n"
     ]
    }
   ],
   "source": [
    "#Comparison of RPI of other players with Sachin Tendulkar on that time period\n",
    "\n",
    "com_RPI_sachin = RPI_Sachin/(sum(non_sachin_data['Innings Runs Scored Num'])/len(non_sachin_data))\n",
    "print(com_RPI_sachin)"
   ]
  },
  {
   "cell_type": "code",
   "execution_count": 49,
   "id": "7d4d4c62",
   "metadata": {},
   "outputs": [
    {
     "data": {
      "text/plain": [
       "83.42743413330611"
      ]
     },
     "execution_count": 49,
     "metadata": {},
     "output_type": "execute_result"
    }
   ],
   "source": [
    "sum(non_virat_data['Innings Runs Scored Num'])/sum(non_virat_data['Innings Balls Faced']) * 100"
   ]
  },
  {
   "cell_type": "code",
   "execution_count": 50,
   "id": "36edd63b",
   "metadata": {},
   "outputs": [
    {
     "data": {
      "text/plain": [
       "93.56126778138258"
      ]
     },
     "execution_count": 50,
     "metadata": {},
     "output_type": "execute_result"
    }
   ],
   "source": [
    "Strike_rate_Virat"
   ]
  },
  {
   "cell_type": "code",
   "execution_count": 51,
   "id": "7659d5c6",
   "metadata": {},
   "outputs": [
    {
     "name": "stdout",
     "output_type": "stream",
     "text": [
      "1.1214688399967323\n"
     ]
    }
   ],
   "source": [
    "#Comparison of Strike Rate of other players with Virat Kolhi on that time period \n",
    "\n",
    "com_SR_virat = Strike_rate_Virat/(sum(non_virat_data['Innings Runs Scored Num'])/sum(non_virat_data['Innings Balls Faced']) * 100)\n",
    "print(com_SR_virat)"
   ]
  },
  {
   "cell_type": "code",
   "execution_count": 52,
   "id": "424b990d",
   "metadata": {},
   "outputs": [
    {
     "data": {
      "text/plain": [
       "72.33808936558636"
      ]
     },
     "execution_count": 52,
     "metadata": {},
     "output_type": "execute_result"
    }
   ],
   "source": [
    "sum(non_sachin_data['Innings Runs Scored Num'])/sum(non_sachin_data['Innings Balls Faced']) * 100"
   ]
  },
  {
   "cell_type": "code",
   "execution_count": 53,
   "id": "b4e127ab",
   "metadata": {},
   "outputs": [
    {
     "data": {
      "text/plain": [
       "88.21377920429947"
      ]
     },
     "execution_count": 53,
     "metadata": {},
     "output_type": "execute_result"
    }
   ],
   "source": [
    "Strike_rate_Sachin"
   ]
  },
  {
   "cell_type": "code",
   "execution_count": 54,
   "id": "70f584c0",
   "metadata": {},
   "outputs": [
    {
     "name": "stdout",
     "output_type": "stream",
     "text": [
      "1.2194651528391862\n"
     ]
    }
   ],
   "source": [
    "#Comparison of Strike Rate of other players with Sachin Tendulkar on that time period\n",
    "\n",
    "com_SR_sachin = Strike_rate_Sachin/(sum(non_sachin_data['Innings Runs Scored Num'])/sum(non_sachin_data['Innings Balls Faced']) * 100)\n",
    "print(com_SR_sachin)"
   ]
  },
  {
   "cell_type": "code",
   "execution_count": 55,
   "id": "c59abfad",
   "metadata": {},
   "outputs": [
    {
     "data": {
      "text/plain": [
       "42.0"
      ]
     },
     "execution_count": 55,
     "metadata": {},
     "output_type": "execute_result"
    }
   ],
   "source": [
    "Hundred_virat"
   ]
  },
  {
   "cell_type": "code",
   "execution_count": 56,
   "id": "dd15425a",
   "metadata": {},
   "outputs": [
    {
     "data": {
      "text/plain": [
       "5.333333333333333"
      ]
     },
     "execution_count": 56,
     "metadata": {},
     "output_type": "execute_result"
    }
   ],
   "source": [
    "#Number of matches to get a hundred for Virat\n",
    "\n",
    "len(virat['Innings Runs Scored Num'])/Hundred_virat"
   ]
  },
  {
   "cell_type": "code",
   "execution_count": 57,
   "id": "c734be9f",
   "metadata": {},
   "outputs": [
    {
     "name": "stdout",
     "output_type": "stream",
     "text": [
      "0.1875\n"
     ]
    }
   ],
   "source": [
    "#Hundreds per match\n",
    "\n",
    "com_100_virat= Hundred_virat/len(virat['Innings Runs Scored Num'])\n",
    "print(com_100_virat)"
   ]
  },
  {
   "cell_type": "code",
   "execution_count": 58,
   "id": "efd2ebad",
   "metadata": {},
   "outputs": [
    {
     "data": {
      "text/plain": [
       "37.0"
      ]
     },
     "execution_count": 58,
     "metadata": {},
     "output_type": "execute_result"
    }
   ],
   "source": [
    "Hundred_sachin"
   ]
  },
  {
   "cell_type": "code",
   "execution_count": 59,
   "id": "3ffbc629",
   "metadata": {},
   "outputs": [
    {
     "data": {
      "text/plain": [
       "7.324324324324325"
      ]
     },
     "execution_count": 59,
     "metadata": {},
     "output_type": "execute_result"
    }
   ],
   "source": [
    "#Number of matches to get hundred for Sachin\n",
    "\n",
    "len(sachin['Innings Runs Scored Num'])/Hundred_sachin"
   ]
  },
  {
   "cell_type": "code",
   "execution_count": 60,
   "id": "e371cdfe",
   "metadata": {},
   "outputs": [
    {
     "name": "stdout",
     "output_type": "stream",
     "text": [
      "0.13653136531365315\n"
     ]
    }
   ],
   "source": [
    "#Hundreds per match\n",
    "\n",
    "com_100_sachin = Hundred_sachin/len(sachin['Innings Runs Scored Num'])\n",
    "print(com_100_sachin)"
   ]
  },
  {
   "cell_type": "code",
   "execution_count": 61,
   "id": "2f8c205b",
   "metadata": {},
   "outputs": [
    {
     "data": {
      "text/plain": [
       "57.0"
      ]
     },
     "execution_count": 61,
     "metadata": {},
     "output_type": "execute_result"
    }
   ],
   "source": [
    "fifty_sachin"
   ]
  },
  {
   "cell_type": "code",
   "execution_count": 62,
   "id": "5848fc88",
   "metadata": {},
   "outputs": [
    {
     "data": {
      "text/plain": [
       "4.754385964912281"
      ]
     },
     "execution_count": 62,
     "metadata": {},
     "output_type": "execute_result"
    }
   ],
   "source": [
    "#Number of matches to get fifty for Sachin\n",
    "\n",
    "len(sachin['Innings Runs Scored Num'])/fifty_sachin"
   ]
  },
  {
   "cell_type": "code",
   "execution_count": 63,
   "id": "423c9007",
   "metadata": {},
   "outputs": [
    {
     "name": "stdout",
     "output_type": "stream",
     "text": [
      "0.21033210332103322\n"
     ]
    }
   ],
   "source": [
    "#fifties per match\n",
    "\n",
    "com_50_sachin = fifty_sachin/len(sachin['Innings Runs Scored Num'])\n",
    "print(com_50_sachin)"
   ]
  },
  {
   "cell_type": "code",
   "execution_count": 64,
   "id": "f71fae3c",
   "metadata": {},
   "outputs": [
    {
     "data": {
      "text/plain": [
       "53.0"
      ]
     },
     "execution_count": 64,
     "metadata": {},
     "output_type": "execute_result"
    }
   ],
   "source": [
    "fifty_virat"
   ]
  },
  {
   "cell_type": "code",
   "execution_count": 65,
   "id": "3eaf3172",
   "metadata": {},
   "outputs": [
    {
     "data": {
      "text/plain": [
       "4.226415094339623"
      ]
     },
     "execution_count": 65,
     "metadata": {},
     "output_type": "execute_result"
    }
   ],
   "source": [
    "#Number of matches to get fifty for Virat\n",
    "\n",
    "len(virat['Innings Runs Scored Num'])/fifty_virat"
   ]
  },
  {
   "cell_type": "code",
   "execution_count": 66,
   "id": "dac85e14",
   "metadata": {},
   "outputs": [
    {
     "name": "stdout",
     "output_type": "stream",
     "text": [
      "0.23660714285714285\n"
     ]
    }
   ],
   "source": [
    "#fifties per match\n",
    "\n",
    "com_50_virat = fifty_virat/len(virat['Innings Runs Scored Num'])\n",
    "print(com_50_virat)"
   ]
  },
  {
   "cell_type": "code",
   "execution_count": 67,
   "id": "e3ea319f",
   "metadata": {},
   "outputs": [
    {
     "data": {
      "text/plain": [
       "82.38996664944337"
      ]
     },
     "execution_count": 67,
     "metadata": {},
     "output_type": "execute_result"
    }
   ],
   "source": [
    "sum(non_virat_data[non_virat_data['Country'] == 'India']['Innings Runs Scored Num'])/sum(virat_data[virat_data['Country']=='India']['Innings Runs Scored Num']) * 100"
   ]
  },
  {
   "cell_type": "code",
   "execution_count": 68,
   "id": "e450573e",
   "metadata": {},
   "outputs": [
    {
     "data": {
      "text/plain": [
       "17.610033350556627"
      ]
     },
     "execution_count": 68,
     "metadata": {},
     "output_type": "execute_result"
    }
   ],
   "source": [
    "TC_Virat"
   ]
  },
  {
   "cell_type": "code",
   "execution_count": 69,
   "id": "6c8403da",
   "metadata": {},
   "outputs": [
    {
     "data": {
      "text/plain": [
       "0.21374002280501714"
      ]
     },
     "execution_count": 69,
     "metadata": {},
     "output_type": "execute_result"
    }
   ],
   "source": [
    "TC_Virat/(sum(non_virat_data[non_virat_data['Country'] == 'India']['Innings Runs Scored Num'])/sum(virat_data[virat_data['Country']=='India']['Innings Runs Scored Num']) * 100)"
   ]
  },
  {
   "cell_type": "code",
   "execution_count": 70,
   "id": "27f6224b",
   "metadata": {},
   "outputs": [
    {
     "data": {
      "text/plain": [
       "83.04812450692104"
      ]
     },
     "execution_count": 70,
     "metadata": {},
     "output_type": "execute_result"
    }
   ],
   "source": [
    "sum(non_sachin_data[non_sachin_data['Country'] == 'India']['Innings Runs Scored Num'])/sum(sachin_data[sachin_data['Country']=='India']['Innings Runs Scored Num']) * 100"
   ]
  },
  {
   "cell_type": "code",
   "execution_count": 71,
   "id": "6c3fe55a",
   "metadata": {},
   "outputs": [
    {
     "data": {
      "text/plain": [
       "16.951875493078962"
      ]
     },
     "execution_count": 71,
     "metadata": {},
     "output_type": "execute_result"
    }
   ],
   "source": [
    "TC_Sachin"
   ]
  },
  {
   "cell_type": "code",
   "execution_count": 72,
   "id": "6de46637",
   "metadata": {},
   "outputs": [
    {
     "data": {
      "text/plain": [
       "0.20412111162927263"
      ]
     },
     "execution_count": 72,
     "metadata": {},
     "output_type": "execute_result"
    }
   ],
   "source": [
    "TC_Sachin/(sum(non_sachin_data[non_sachin_data['Country'] == 'India']['Innings Runs Scored Num'])/sum(sachin_data[sachin_data['Country']=='India']['Innings Runs Scored Num']) * 100)"
   ]
  },
  {
   "cell_type": "markdown",
   "id": "5b61e6bc",
   "metadata": {},
   "source": [
    "# Best Batsman according to our model"
   ]
  },
  {
   "cell_type": "code",
   "execution_count": 73,
   "id": "7b1e2647",
   "metadata": {},
   "outputs": [],
   "source": [
    "myTable = PrettyTable([\"Parameters\", \"Virat\", \"Sachin\", \"Winner\"])"
   ]
  },
  {
   "cell_type": "code",
   "execution_count": 74,
   "id": "9c005aae",
   "metadata": {},
   "outputs": [
    {
     "name": "stdout",
     "output_type": "stream",
     "text": [
      "+-------------------+---------------------+---------------------+--------+\n",
      "|     Parameters    |        Virat        |        Sachin       | Winner |\n",
      "+-------------------+---------------------+---------------------+--------+\n",
      "|  Runs Per Innings |  2.029683688052565  |  1.9437755485945407 | Virat  |\n",
      "|    Strike Rate    |  1.1214688399967323 |  1.2194651528391862 | Sachin |\n",
      "|  100's per match  |        0.1875       | 0.13653136531365315 | Virat  |\n",
      "|   50's per match  | 0.23660714285714285 | 0.21033210332103322 | Virat  |\n",
      "| Team Contribution |  17.610033350556627 |  16.951875493078962 | Virat  |\n",
      "+-------------------+---------------------+---------------------+--------+\n"
     ]
    }
   ],
   "source": [
    "myTable.add_row([\"Runs Per Innings\", com_RPI_virat, com_RPI_sachin, \"Virat\"])\n",
    "myTable.add_row([\"Strike Rate\", com_SR_virat, com_SR_sachin, \"Sachin\"])\n",
    "myTable.add_row([\"100's per match\", com_100_virat, com_100_sachin, \"Virat\"])\n",
    "myTable.add_row([\"50's per match\", com_50_virat, com_50_sachin, \"Virat\"])\n",
    "myTable.add_row([\"Team Contribution\", TC_Virat, TC_Sachin, \"Virat\"])\n",
    "\n",
    "print(myTable)"
   ]
  }
 ],
 "metadata": {
  "kernelspec": {
   "display_name": "Python 3 (ipykernel)",
   "language": "python",
   "name": "python3"
  },
  "language_info": {
   "codemirror_mode": {
    "name": "ipython",
    "version": 3
   },
   "file_extension": ".py",
   "mimetype": "text/x-python",
   "name": "python",
   "nbconvert_exporter": "python",
   "pygments_lexer": "ipython3",
   "version": "3.10.9"
  }
 },
 "nbformat": 4,
 "nbformat_minor": 5
}
